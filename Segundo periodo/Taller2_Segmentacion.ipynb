{
  "cells": [
    {
      "cell_type": "markdown",
      "metadata": {
        "id": "xTyzoHWEQ9mk"
      },
      "source": [
        "# Segmentación de Clientes con Segmentación Manual\n",
        "\n",
        "En este notebook se utiliza una base de datos de e-commerce para segmentar clientes de forma manual a partir de las métricas calculadas en el análisis:\n",
        "\n",
        "- **Total Revenue**: Ingreso total por cliente.\n",
        "- **Total Units**: Cantidad total de productos comprados.\n",
        "- **NumCategories**: Número de categorías (diversidad de productos) compradas.\n",
        "\n",
        "Además, se agrupa la variable numérica **age** con pd.cut para ver cómo se distribuyen las compras en función de grupos etarios.\n",
        "\n",
        "El objetivo es definir segmentos (por ejemplo, \"Bajo\", \"Medio\" y \"Alto\" en Total Revenue) que sirvan para orientar estrategias de negocio, sin utilizar algoritmos de clustering complejos."
      ],
      "id": "xTyzoHWEQ9mk"
    },
    {
      "cell_type": "code",
      "source": [
        "!wget https://github.com/javierherrera1996/IntroMarketingAnalytics/raw/refs/heads/main/SegundoCorte/customer_shopping_data.csv.zip\n",
        "!unzip customer_shopping_data.csv.zip"
      ],
      "metadata": {
        "colab": {
          "base_uri": "https://localhost:8080/"
        },
        "id": "YhinOfPERA_T",
        "outputId": "c4230617-8dd8-48bf-f167-15d4169ec52a"
      },
      "id": "YhinOfPERA_T",
      "execution_count": 1,
      "outputs": [
        {
          "output_type": "stream",
          "name": "stdout",
          "text": [
            "--2025-03-27 21:04:32--  https://github.com/javierherrera1996/IntroMarketingAnalytics/raw/refs/heads/main/SegundoCorte/customer_shopping_data.csv.zip\n",
            "Resolving github.com (github.com)... 140.82.113.4\n",
            "Connecting to github.com (github.com)|140.82.113.4|:443... connected.\n",
            "HTTP request sent, awaiting response... 302 Found\n",
            "Location: https://raw.githubusercontent.com/javierherrera1996/IntroMarketingAnalytics/refs/heads/main/SegundoCorte/customer_shopping_data.csv.zip [following]\n",
            "--2025-03-27 21:04:32--  https://raw.githubusercontent.com/javierherrera1996/IntroMarketingAnalytics/refs/heads/main/SegundoCorte/customer_shopping_data.csv.zip\n",
            "Resolving raw.githubusercontent.com (raw.githubusercontent.com)... 185.199.108.133, 185.199.109.133, 185.199.110.133, ...\n",
            "Connecting to raw.githubusercontent.com (raw.githubusercontent.com)|185.199.108.133|:443... connected.\n",
            "HTTP request sent, awaiting response... 200 OK\n",
            "Length: 1712272 (1.6M) [application/zip]\n",
            "Saving to: ‘customer_shopping_data.csv.zip’\n",
            "\n",
            "customer_shopping_d 100%[===================>]   1.63M  --.-KB/s    in 0.04s   \n",
            "\n",
            "2025-03-27 21:04:33 (37.4 MB/s) - ‘customer_shopping_data.csv.zip’ saved [1712272/1712272]\n",
            "\n",
            "Archive:  customer_shopping_data.csv.zip\n",
            "  inflating: customer_shopping_data.csv  \n"
          ]
        }
      ]
    },
    {
      "cell_type": "code",
      "metadata": {
        "id": "At1pbWoBQ9ml"
      },
      "source": [
        "# Importar librerías necesarias\n",
        "import pandas as pd\n",
        "import numpy as np\n",
        "import matplotlib.pyplot as plt\n",
        "import seaborn as sns\n",
        "\n",
        "# Configuración de visualización\n",
        "pd.set_option('display.max_columns', None)\n",
        "pd.set_option('display.max_rows', 20)\n",
        "%matplotlib inline\n",
        "sns.set(style='whitegrid')"
      ],
      "execution_count": 2,
      "id": "At1pbWoBQ9ml",
      "outputs": []
    },
    {
      "cell_type": "markdown",
      "metadata": {
        "id": "vjyw32YPQ9mm"
      },
      "source": [
        "## 1. Carga y Preprocesamiento de Datos\n",
        "\n",
        "Utilizamos una base de datos sintética basada en la siguiente estructura:\n",
        "\n",
        "- **invoice_no**\n",
        "- **customer_id**\n",
        "- **gender**\n",
        "- **age**\n",
        "- **category**\n",
        "- **quantity**\n",
        "- **price**\n",
        "- **payment_method**\n",
        "- **invoice_date**\n",
        "- **shopping_mall**\n",
        "\n",
        "Se convierte la fecha a datetime y se calcula la métrica *Revenue* (quantity * price)."
      ],
      "id": "vjyw32YPQ9mm"
    },
    {
      "cell_type": "code",
      "metadata": {
        "id": "qLDjLvlEQ9mm"
      },
      "source": [
        "# Crear DataFrame con datos de ejemplo\n",
        "df = pd.read_csv('customer_shopping_data.csv')\n"
      ],
      "execution_count": 3,
      "id": "qLDjLvlEQ9mm",
      "outputs": []
    },
    {
      "cell_type": "code",
      "source": [
        "\n",
        "# Convertir invoice_date a datetime\n",
        "df['invoice_date'] = pd.to_datetime(df['invoice_date'], format='%d/%m/%Y')\n",
        "\n",
        "# Calcular Revenue\n",
        "df['Revenue'] = df['quantity'] * df['price']\n",
        "\n",
        "print('Datos transaccionales:')\n",
        "df"
      ],
      "metadata": {
        "id": "YvpIJNasRqfS",
        "outputId": "1e81bed2-b56b-466d-f8f1-5110b9f236de",
        "colab": {
          "base_uri": "https://localhost:8080/",
          "height": 441
        }
      },
      "id": "YvpIJNasRqfS",
      "execution_count": 4,
      "outputs": [
        {
          "output_type": "stream",
          "name": "stdout",
          "text": [
            "Datos transaccionales:\n"
          ]
        },
        {
          "output_type": "execute_result",
          "data": {
            "text/plain": [
              "      invoice_no customer_id  gender  age         category  quantity    price  \\\n",
              "0        I138884     C241288  Female   28         Clothing         5  1500.40   \n",
              "1        I317333     C111565    Male   21            Shoes         3  1800.51   \n",
              "2        I127801     C266599    Male   20         Clothing         1   300.08   \n",
              "3        I173702     C988172  Female   66            Shoes         5  3000.85   \n",
              "4        I337046     C189076  Female   53            Books         4    60.60   \n",
              "...          ...         ...     ...  ...              ...       ...      ...   \n",
              "99452    I219422     C441542  Female   45         Souvenir         5    58.65   \n",
              "99453    I325143     C569580    Male   27  Food & Beverage         2    10.46   \n",
              "99454    I824010     C103292    Male   63  Food & Beverage         2    10.46   \n",
              "99455    I702964     C800631    Male   56       Technology         4  4200.00   \n",
              "99456    I232867     C273973  Female   36         Souvenir         3    35.19   \n",
              "\n",
              "      payment_method invoice_date     shopping_mall   Revenue  \n",
              "0        Credit Card   2022-08-05            Kanyon   7502.00  \n",
              "1         Debit Card   2021-12-12    Forum Istanbul   5401.53  \n",
              "2               Cash   2021-11-09         Metrocity    300.08  \n",
              "3        Credit Card   2021-05-16      Metropol AVM  15004.25  \n",
              "4               Cash   2021-10-24            Kanyon    242.40  \n",
              "...              ...          ...               ...       ...  \n",
              "99452    Credit Card   2022-09-21            Kanyon    293.25  \n",
              "99453           Cash   2021-09-22    Forum Istanbul     20.92  \n",
              "99454     Debit Card   2021-03-28         Metrocity     20.92  \n",
              "99455           Cash   2021-03-16      Istinye Park  16800.00  \n",
              "99456    Credit Card   2022-10-15  Mall of Istanbul    105.57  \n",
              "\n",
              "[99457 rows x 11 columns]"
            ],
            "text/html": [
              "\n",
              "  <div id=\"df-512c1dd6-7d7e-48db-9da6-02fe45ae6818\" class=\"colab-df-container\">\n",
              "    <div>\n",
              "<style scoped>\n",
              "    .dataframe tbody tr th:only-of-type {\n",
              "        vertical-align: middle;\n",
              "    }\n",
              "\n",
              "    .dataframe tbody tr th {\n",
              "        vertical-align: top;\n",
              "    }\n",
              "\n",
              "    .dataframe thead th {\n",
              "        text-align: right;\n",
              "    }\n",
              "</style>\n",
              "<table border=\"1\" class=\"dataframe\">\n",
              "  <thead>\n",
              "    <tr style=\"text-align: right;\">\n",
              "      <th></th>\n",
              "      <th>invoice_no</th>\n",
              "      <th>customer_id</th>\n",
              "      <th>gender</th>\n",
              "      <th>age</th>\n",
              "      <th>category</th>\n",
              "      <th>quantity</th>\n",
              "      <th>price</th>\n",
              "      <th>payment_method</th>\n",
              "      <th>invoice_date</th>\n",
              "      <th>shopping_mall</th>\n",
              "      <th>Revenue</th>\n",
              "    </tr>\n",
              "  </thead>\n",
              "  <tbody>\n",
              "    <tr>\n",
              "      <th>0</th>\n",
              "      <td>I138884</td>\n",
              "      <td>C241288</td>\n",
              "      <td>Female</td>\n",
              "      <td>28</td>\n",
              "      <td>Clothing</td>\n",
              "      <td>5</td>\n",
              "      <td>1500.40</td>\n",
              "      <td>Credit Card</td>\n",
              "      <td>2022-08-05</td>\n",
              "      <td>Kanyon</td>\n",
              "      <td>7502.00</td>\n",
              "    </tr>\n",
              "    <tr>\n",
              "      <th>1</th>\n",
              "      <td>I317333</td>\n",
              "      <td>C111565</td>\n",
              "      <td>Male</td>\n",
              "      <td>21</td>\n",
              "      <td>Shoes</td>\n",
              "      <td>3</td>\n",
              "      <td>1800.51</td>\n",
              "      <td>Debit Card</td>\n",
              "      <td>2021-12-12</td>\n",
              "      <td>Forum Istanbul</td>\n",
              "      <td>5401.53</td>\n",
              "    </tr>\n",
              "    <tr>\n",
              "      <th>2</th>\n",
              "      <td>I127801</td>\n",
              "      <td>C266599</td>\n",
              "      <td>Male</td>\n",
              "      <td>20</td>\n",
              "      <td>Clothing</td>\n",
              "      <td>1</td>\n",
              "      <td>300.08</td>\n",
              "      <td>Cash</td>\n",
              "      <td>2021-11-09</td>\n",
              "      <td>Metrocity</td>\n",
              "      <td>300.08</td>\n",
              "    </tr>\n",
              "    <tr>\n",
              "      <th>3</th>\n",
              "      <td>I173702</td>\n",
              "      <td>C988172</td>\n",
              "      <td>Female</td>\n",
              "      <td>66</td>\n",
              "      <td>Shoes</td>\n",
              "      <td>5</td>\n",
              "      <td>3000.85</td>\n",
              "      <td>Credit Card</td>\n",
              "      <td>2021-05-16</td>\n",
              "      <td>Metropol AVM</td>\n",
              "      <td>15004.25</td>\n",
              "    </tr>\n",
              "    <tr>\n",
              "      <th>4</th>\n",
              "      <td>I337046</td>\n",
              "      <td>C189076</td>\n",
              "      <td>Female</td>\n",
              "      <td>53</td>\n",
              "      <td>Books</td>\n",
              "      <td>4</td>\n",
              "      <td>60.60</td>\n",
              "      <td>Cash</td>\n",
              "      <td>2021-10-24</td>\n",
              "      <td>Kanyon</td>\n",
              "      <td>242.40</td>\n",
              "    </tr>\n",
              "    <tr>\n",
              "      <th>...</th>\n",
              "      <td>...</td>\n",
              "      <td>...</td>\n",
              "      <td>...</td>\n",
              "      <td>...</td>\n",
              "      <td>...</td>\n",
              "      <td>...</td>\n",
              "      <td>...</td>\n",
              "      <td>...</td>\n",
              "      <td>...</td>\n",
              "      <td>...</td>\n",
              "      <td>...</td>\n",
              "    </tr>\n",
              "    <tr>\n",
              "      <th>99452</th>\n",
              "      <td>I219422</td>\n",
              "      <td>C441542</td>\n",
              "      <td>Female</td>\n",
              "      <td>45</td>\n",
              "      <td>Souvenir</td>\n",
              "      <td>5</td>\n",
              "      <td>58.65</td>\n",
              "      <td>Credit Card</td>\n",
              "      <td>2022-09-21</td>\n",
              "      <td>Kanyon</td>\n",
              "      <td>293.25</td>\n",
              "    </tr>\n",
              "    <tr>\n",
              "      <th>99453</th>\n",
              "      <td>I325143</td>\n",
              "      <td>C569580</td>\n",
              "      <td>Male</td>\n",
              "      <td>27</td>\n",
              "      <td>Food &amp; Beverage</td>\n",
              "      <td>2</td>\n",
              "      <td>10.46</td>\n",
              "      <td>Cash</td>\n",
              "      <td>2021-09-22</td>\n",
              "      <td>Forum Istanbul</td>\n",
              "      <td>20.92</td>\n",
              "    </tr>\n",
              "    <tr>\n",
              "      <th>99454</th>\n",
              "      <td>I824010</td>\n",
              "      <td>C103292</td>\n",
              "      <td>Male</td>\n",
              "      <td>63</td>\n",
              "      <td>Food &amp; Beverage</td>\n",
              "      <td>2</td>\n",
              "      <td>10.46</td>\n",
              "      <td>Debit Card</td>\n",
              "      <td>2021-03-28</td>\n",
              "      <td>Metrocity</td>\n",
              "      <td>20.92</td>\n",
              "    </tr>\n",
              "    <tr>\n",
              "      <th>99455</th>\n",
              "      <td>I702964</td>\n",
              "      <td>C800631</td>\n",
              "      <td>Male</td>\n",
              "      <td>56</td>\n",
              "      <td>Technology</td>\n",
              "      <td>4</td>\n",
              "      <td>4200.00</td>\n",
              "      <td>Cash</td>\n",
              "      <td>2021-03-16</td>\n",
              "      <td>Istinye Park</td>\n",
              "      <td>16800.00</td>\n",
              "    </tr>\n",
              "    <tr>\n",
              "      <th>99456</th>\n",
              "      <td>I232867</td>\n",
              "      <td>C273973</td>\n",
              "      <td>Female</td>\n",
              "      <td>36</td>\n",
              "      <td>Souvenir</td>\n",
              "      <td>3</td>\n",
              "      <td>35.19</td>\n",
              "      <td>Credit Card</td>\n",
              "      <td>2022-10-15</td>\n",
              "      <td>Mall of Istanbul</td>\n",
              "      <td>105.57</td>\n",
              "    </tr>\n",
              "  </tbody>\n",
              "</table>\n",
              "<p>99457 rows × 11 columns</p>\n",
              "</div>\n",
              "    <div class=\"colab-df-buttons\">\n",
              "\n",
              "  <div class=\"colab-df-container\">\n",
              "    <button class=\"colab-df-convert\" onclick=\"convertToInteractive('df-512c1dd6-7d7e-48db-9da6-02fe45ae6818')\"\n",
              "            title=\"Convert this dataframe to an interactive table.\"\n",
              "            style=\"display:none;\">\n",
              "\n",
              "  <svg xmlns=\"http://www.w3.org/2000/svg\" height=\"24px\" viewBox=\"0 -960 960 960\">\n",
              "    <path d=\"M120-120v-720h720v720H120Zm60-500h600v-160H180v160Zm220 220h160v-160H400v160Zm0 220h160v-160H400v160ZM180-400h160v-160H180v160Zm440 0h160v-160H620v160ZM180-180h160v-160H180v160Zm440 0h160v-160H620v160Z\"/>\n",
              "  </svg>\n",
              "    </button>\n",
              "\n",
              "  <style>\n",
              "    .colab-df-container {\n",
              "      display:flex;\n",
              "      gap: 12px;\n",
              "    }\n",
              "\n",
              "    .colab-df-convert {\n",
              "      background-color: #E8F0FE;\n",
              "      border: none;\n",
              "      border-radius: 50%;\n",
              "      cursor: pointer;\n",
              "      display: none;\n",
              "      fill: #1967D2;\n",
              "      height: 32px;\n",
              "      padding: 0 0 0 0;\n",
              "      width: 32px;\n",
              "    }\n",
              "\n",
              "    .colab-df-convert:hover {\n",
              "      background-color: #E2EBFA;\n",
              "      box-shadow: 0px 1px 2px rgba(60, 64, 67, 0.3), 0px 1px 3px 1px rgba(60, 64, 67, 0.15);\n",
              "      fill: #174EA6;\n",
              "    }\n",
              "\n",
              "    .colab-df-buttons div {\n",
              "      margin-bottom: 4px;\n",
              "    }\n",
              "\n",
              "    [theme=dark] .colab-df-convert {\n",
              "      background-color: #3B4455;\n",
              "      fill: #D2E3FC;\n",
              "    }\n",
              "\n",
              "    [theme=dark] .colab-df-convert:hover {\n",
              "      background-color: #434B5C;\n",
              "      box-shadow: 0px 1px 3px 1px rgba(0, 0, 0, 0.15);\n",
              "      filter: drop-shadow(0px 1px 2px rgba(0, 0, 0, 0.3));\n",
              "      fill: #FFFFFF;\n",
              "    }\n",
              "  </style>\n",
              "\n",
              "    <script>\n",
              "      const buttonEl =\n",
              "        document.querySelector('#df-512c1dd6-7d7e-48db-9da6-02fe45ae6818 button.colab-df-convert');\n",
              "      buttonEl.style.display =\n",
              "        google.colab.kernel.accessAllowed ? 'block' : 'none';\n",
              "\n",
              "      async function convertToInteractive(key) {\n",
              "        const element = document.querySelector('#df-512c1dd6-7d7e-48db-9da6-02fe45ae6818');\n",
              "        const dataTable =\n",
              "          await google.colab.kernel.invokeFunction('convertToInteractive',\n",
              "                                                    [key], {});\n",
              "        if (!dataTable) return;\n",
              "\n",
              "        const docLinkHtml = 'Like what you see? Visit the ' +\n",
              "          '<a target=\"_blank\" href=https://colab.research.google.com/notebooks/data_table.ipynb>data table notebook</a>'\n",
              "          + ' to learn more about interactive tables.';\n",
              "        element.innerHTML = '';\n",
              "        dataTable['output_type'] = 'display_data';\n",
              "        await google.colab.output.renderOutput(dataTable, element);\n",
              "        const docLink = document.createElement('div');\n",
              "        docLink.innerHTML = docLinkHtml;\n",
              "        element.appendChild(docLink);\n",
              "      }\n",
              "    </script>\n",
              "  </div>\n",
              "\n",
              "\n",
              "<div id=\"df-a12c1d63-024f-4fec-b3bd-2cbc191c4a89\">\n",
              "  <button class=\"colab-df-quickchart\" onclick=\"quickchart('df-a12c1d63-024f-4fec-b3bd-2cbc191c4a89')\"\n",
              "            title=\"Suggest charts\"\n",
              "            style=\"display:none;\">\n",
              "\n",
              "<svg xmlns=\"http://www.w3.org/2000/svg\" height=\"24px\"viewBox=\"0 0 24 24\"\n",
              "     width=\"24px\">\n",
              "    <g>\n",
              "        <path d=\"M19 3H5c-1.1 0-2 .9-2 2v14c0 1.1.9 2 2 2h14c1.1 0 2-.9 2-2V5c0-1.1-.9-2-2-2zM9 17H7v-7h2v7zm4 0h-2V7h2v10zm4 0h-2v-4h2v4z\"/>\n",
              "    </g>\n",
              "</svg>\n",
              "  </button>\n",
              "\n",
              "<style>\n",
              "  .colab-df-quickchart {\n",
              "      --bg-color: #E8F0FE;\n",
              "      --fill-color: #1967D2;\n",
              "      --hover-bg-color: #E2EBFA;\n",
              "      --hover-fill-color: #174EA6;\n",
              "      --disabled-fill-color: #AAA;\n",
              "      --disabled-bg-color: #DDD;\n",
              "  }\n",
              "\n",
              "  [theme=dark] .colab-df-quickchart {\n",
              "      --bg-color: #3B4455;\n",
              "      --fill-color: #D2E3FC;\n",
              "      --hover-bg-color: #434B5C;\n",
              "      --hover-fill-color: #FFFFFF;\n",
              "      --disabled-bg-color: #3B4455;\n",
              "      --disabled-fill-color: #666;\n",
              "  }\n",
              "\n",
              "  .colab-df-quickchart {\n",
              "    background-color: var(--bg-color);\n",
              "    border: none;\n",
              "    border-radius: 50%;\n",
              "    cursor: pointer;\n",
              "    display: none;\n",
              "    fill: var(--fill-color);\n",
              "    height: 32px;\n",
              "    padding: 0;\n",
              "    width: 32px;\n",
              "  }\n",
              "\n",
              "  .colab-df-quickchart:hover {\n",
              "    background-color: var(--hover-bg-color);\n",
              "    box-shadow: 0 1px 2px rgba(60, 64, 67, 0.3), 0 1px 3px 1px rgba(60, 64, 67, 0.15);\n",
              "    fill: var(--button-hover-fill-color);\n",
              "  }\n",
              "\n",
              "  .colab-df-quickchart-complete:disabled,\n",
              "  .colab-df-quickchart-complete:disabled:hover {\n",
              "    background-color: var(--disabled-bg-color);\n",
              "    fill: var(--disabled-fill-color);\n",
              "    box-shadow: none;\n",
              "  }\n",
              "\n",
              "  .colab-df-spinner {\n",
              "    border: 2px solid var(--fill-color);\n",
              "    border-color: transparent;\n",
              "    border-bottom-color: var(--fill-color);\n",
              "    animation:\n",
              "      spin 1s steps(1) infinite;\n",
              "  }\n",
              "\n",
              "  @keyframes spin {\n",
              "    0% {\n",
              "      border-color: transparent;\n",
              "      border-bottom-color: var(--fill-color);\n",
              "      border-left-color: var(--fill-color);\n",
              "    }\n",
              "    20% {\n",
              "      border-color: transparent;\n",
              "      border-left-color: var(--fill-color);\n",
              "      border-top-color: var(--fill-color);\n",
              "    }\n",
              "    30% {\n",
              "      border-color: transparent;\n",
              "      border-left-color: var(--fill-color);\n",
              "      border-top-color: var(--fill-color);\n",
              "      border-right-color: var(--fill-color);\n",
              "    }\n",
              "    40% {\n",
              "      border-color: transparent;\n",
              "      border-right-color: var(--fill-color);\n",
              "      border-top-color: var(--fill-color);\n",
              "    }\n",
              "    60% {\n",
              "      border-color: transparent;\n",
              "      border-right-color: var(--fill-color);\n",
              "    }\n",
              "    80% {\n",
              "      border-color: transparent;\n",
              "      border-right-color: var(--fill-color);\n",
              "      border-bottom-color: var(--fill-color);\n",
              "    }\n",
              "    90% {\n",
              "      border-color: transparent;\n",
              "      border-bottom-color: var(--fill-color);\n",
              "    }\n",
              "  }\n",
              "</style>\n",
              "\n",
              "  <script>\n",
              "    async function quickchart(key) {\n",
              "      const quickchartButtonEl =\n",
              "        document.querySelector('#' + key + ' button');\n",
              "      quickchartButtonEl.disabled = true;  // To prevent multiple clicks.\n",
              "      quickchartButtonEl.classList.add('colab-df-spinner');\n",
              "      try {\n",
              "        const charts = await google.colab.kernel.invokeFunction(\n",
              "            'suggestCharts', [key], {});\n",
              "      } catch (error) {\n",
              "        console.error('Error during call to suggestCharts:', error);\n",
              "      }\n",
              "      quickchartButtonEl.classList.remove('colab-df-spinner');\n",
              "      quickchartButtonEl.classList.add('colab-df-quickchart-complete');\n",
              "    }\n",
              "    (() => {\n",
              "      let quickchartButtonEl =\n",
              "        document.querySelector('#df-a12c1d63-024f-4fec-b3bd-2cbc191c4a89 button');\n",
              "      quickchartButtonEl.style.display =\n",
              "        google.colab.kernel.accessAllowed ? 'block' : 'none';\n",
              "    })();\n",
              "  </script>\n",
              "</div>\n",
              "\n",
              "  <div id=\"id_25d705b0-d88c-439b-a331-0369158cc072\">\n",
              "    <style>\n",
              "      .colab-df-generate {\n",
              "        background-color: #E8F0FE;\n",
              "        border: none;\n",
              "        border-radius: 50%;\n",
              "        cursor: pointer;\n",
              "        display: none;\n",
              "        fill: #1967D2;\n",
              "        height: 32px;\n",
              "        padding: 0 0 0 0;\n",
              "        width: 32px;\n",
              "      }\n",
              "\n",
              "      .colab-df-generate:hover {\n",
              "        background-color: #E2EBFA;\n",
              "        box-shadow: 0px 1px 2px rgba(60, 64, 67, 0.3), 0px 1px 3px 1px rgba(60, 64, 67, 0.15);\n",
              "        fill: #174EA6;\n",
              "      }\n",
              "\n",
              "      [theme=dark] .colab-df-generate {\n",
              "        background-color: #3B4455;\n",
              "        fill: #D2E3FC;\n",
              "      }\n",
              "\n",
              "      [theme=dark] .colab-df-generate:hover {\n",
              "        background-color: #434B5C;\n",
              "        box-shadow: 0px 1px 3px 1px rgba(0, 0, 0, 0.15);\n",
              "        filter: drop-shadow(0px 1px 2px rgba(0, 0, 0, 0.3));\n",
              "        fill: #FFFFFF;\n",
              "      }\n",
              "    </style>\n",
              "    <button class=\"colab-df-generate\" onclick=\"generateWithVariable('df')\"\n",
              "            title=\"Generate code using this dataframe.\"\n",
              "            style=\"display:none;\">\n",
              "\n",
              "  <svg xmlns=\"http://www.w3.org/2000/svg\" height=\"24px\"viewBox=\"0 0 24 24\"\n",
              "       width=\"24px\">\n",
              "    <path d=\"M7,19H8.4L18.45,9,17,7.55,7,17.6ZM5,21V16.75L18.45,3.32a2,2,0,0,1,2.83,0l1.4,1.43a1.91,1.91,0,0,1,.58,1.4,1.91,1.91,0,0,1-.58,1.4L9.25,21ZM18.45,9,17,7.55Zm-12,3A5.31,5.31,0,0,0,4.9,8.1,5.31,5.31,0,0,0,1,6.5,5.31,5.31,0,0,0,4.9,4.9,5.31,5.31,0,0,0,6.5,1,5.31,5.31,0,0,0,8.1,4.9,5.31,5.31,0,0,0,12,6.5,5.46,5.46,0,0,0,6.5,12Z\"/>\n",
              "  </svg>\n",
              "    </button>\n",
              "    <script>\n",
              "      (() => {\n",
              "      const buttonEl =\n",
              "        document.querySelector('#id_25d705b0-d88c-439b-a331-0369158cc072 button.colab-df-generate');\n",
              "      buttonEl.style.display =\n",
              "        google.colab.kernel.accessAllowed ? 'block' : 'none';\n",
              "\n",
              "      buttonEl.onclick = () => {\n",
              "        google.colab.notebook.generateWithVariable('df');\n",
              "      }\n",
              "      })();\n",
              "    </script>\n",
              "  </div>\n",
              "\n",
              "    </div>\n",
              "  </div>\n"
            ],
            "application/vnd.google.colaboratory.intrinsic+json": {
              "type": "dataframe",
              "variable_name": "df",
              "summary": "{\n  \"name\": \"df\",\n  \"rows\": 99457,\n  \"fields\": [\n    {\n      \"column\": \"invoice_no\",\n      \"properties\": {\n        \"dtype\": \"string\",\n        \"num_unique_values\": 99457,\n        \"samples\": [\n          \"I704758\",\n          \"I218404\",\n          \"I195516\"\n        ],\n        \"semantic_type\": \"\",\n        \"description\": \"\"\n      }\n    },\n    {\n      \"column\": \"customer_id\",\n      \"properties\": {\n        \"dtype\": \"string\",\n        \"num_unique_values\": 99457,\n        \"samples\": [\n          \"C971218\",\n          \"C949846\",\n          \"C440398\"\n        ],\n        \"semantic_type\": \"\",\n        \"description\": \"\"\n      }\n    },\n    {\n      \"column\": \"gender\",\n      \"properties\": {\n        \"dtype\": \"category\",\n        \"num_unique_values\": 2,\n        \"samples\": [\n          \"Male\",\n          \"Female\"\n        ],\n        \"semantic_type\": \"\",\n        \"description\": \"\"\n      }\n    },\n    {\n      \"column\": \"age\",\n      \"properties\": {\n        \"dtype\": \"number\",\n        \"std\": 14,\n        \"min\": 18,\n        \"max\": 69,\n        \"num_unique_values\": 52,\n        \"samples\": [\n          52,\n          57\n        ],\n        \"semantic_type\": \"\",\n        \"description\": \"\"\n      }\n    },\n    {\n      \"column\": \"category\",\n      \"properties\": {\n        \"dtype\": \"category\",\n        \"num_unique_values\": 8,\n        \"samples\": [\n          \"Shoes\",\n          \"Toys\"\n        ],\n        \"semantic_type\": \"\",\n        \"description\": \"\"\n      }\n    },\n    {\n      \"column\": \"quantity\",\n      \"properties\": {\n        \"dtype\": \"number\",\n        \"std\": 1,\n        \"min\": 1,\n        \"max\": 5,\n        \"num_unique_values\": 5,\n        \"samples\": [\n          3,\n          2\n        ],\n        \"semantic_type\": \"\",\n        \"description\": \"\"\n      }\n    },\n    {\n      \"column\": \"price\",\n      \"properties\": {\n        \"dtype\": \"number\",\n        \"std\": 941.1845672157425,\n        \"min\": 5.23,\n        \"max\": 5250.0,\n        \"num_unique_values\": 40,\n        \"samples\": [\n          121.98,\n          71.68\n        ],\n        \"semantic_type\": \"\",\n        \"description\": \"\"\n      }\n    },\n    {\n      \"column\": \"payment_method\",\n      \"properties\": {\n        \"dtype\": \"category\",\n        \"num_unique_values\": 3,\n        \"samples\": [\n          \"Credit Card\",\n          \"Debit Card\"\n        ],\n        \"semantic_type\": \"\",\n        \"description\": \"\"\n      }\n    },\n    {\n      \"column\": \"invoice_date\",\n      \"properties\": {\n        \"dtype\": \"date\",\n        \"min\": \"2021-01-01 00:00:00\",\n        \"max\": \"2023-03-08 00:00:00\",\n        \"num_unique_values\": 797,\n        \"samples\": [\n          \"2022-07-09 00:00:00\",\n          \"2022-10-14 00:00:00\"\n        ],\n        \"semantic_type\": \"\",\n        \"description\": \"\"\n      }\n    },\n    {\n      \"column\": \"shopping_mall\",\n      \"properties\": {\n        \"dtype\": \"category\",\n        \"num_unique_values\": 10,\n        \"samples\": [\n          \"Viaport Outlet\",\n          \"Forum Istanbul\"\n        ],\n        \"semantic_type\": \"\",\n        \"description\": \"\"\n      }\n    },\n    {\n      \"column\": \"Revenue\",\n      \"properties\": {\n        \"dtype\": \"number\",\n        \"std\": 4222.475781045694,\n        \"min\": 5.23,\n        \"max\": 26250.0,\n        \"num_unique_values\": 40,\n        \"samples\": [\n          365.94,\n          143.36\n        ],\n        \"semantic_type\": \"\",\n        \"description\": \"\"\n      }\n    }\n  ]\n}"
            }
          },
          "metadata": {},
          "execution_count": 4
        }
      ]
    },
    {
      "cell_type": "markdown",
      "metadata": {
        "id": "2Efu0l8LQ9mm"
      },
      "source": [
        "## 2. Análisis Exploratorio\n",
        "\n",
        "Utilizamos pivot tables y crosstabs para explorar la distribución de ingresos y transacciones por diferentes dimensiones."
      ],
      "id": "2Efu0l8LQ9mm"
    },
    {
      "cell_type": "code",
      "metadata": {
        "id": "qaIHxdh6Q9mm",
        "outputId": "55a91c26-a319-4164-8ae2-5a6548cc221f",
        "colab": {
          "base_uri": "https://localhost:8080/"
        }
      },
      "source": [
        "print(\"\\nResumen de los datos:\")\n",
        "print(df.describe())\n",
        "print(\"\\nDistribución de género:\")\n",
        "print(df['gender'].value_counts())"
      ],
      "execution_count": 5,
      "id": "qaIHxdh6Q9mm",
      "outputs": [
        {
          "output_type": "stream",
          "name": "stdout",
          "text": [
            "\n",
            "Resumen de los datos:\n",
            "                age      quantity         price                invoice_date  \\\n",
            "count  99457.000000  99457.000000  99457.000000                       99457   \n",
            "mean      43.427089      3.003429    689.256321  2022-02-04 02:46:59.783424   \n",
            "min       18.000000      1.000000      5.230000         2021-01-01 00:00:00   \n",
            "25%       30.000000      2.000000     45.450000         2021-07-19 00:00:00   \n",
            "50%       43.000000      3.000000    203.300000         2022-02-05 00:00:00   \n",
            "75%       56.000000      4.000000   1200.320000         2022-08-22 00:00:00   \n",
            "max       69.000000      5.000000   5250.000000         2023-03-08 00:00:00   \n",
            "std       14.990054      1.413025    941.184567                         NaN   \n",
            "\n",
            "            Revenue  \n",
            "count  99457.000000  \n",
            "mean    2528.789268  \n",
            "min        5.230000  \n",
            "25%      136.350000  \n",
            "50%      600.170000  \n",
            "75%     2700.720000  \n",
            "max    26250.000000  \n",
            "std     4222.475781  \n",
            "\n",
            "Distribución de género:\n",
            "gender\n",
            "Female    59482\n",
            "Male      39975\n",
            "Name: count, dtype: int64\n"
          ]
        }
      ]
    },
    {
      "cell_type": "code",
      "metadata": {
        "id": "uitOnM1UQ9mm",
        "outputId": "6c80807b-192c-4bba-cfe1-5c4dc07b1a8c",
        "colab": {
          "base_uri": "https://localhost:8080/",
          "height": 496
        }
      },
      "source": [
        "plt.figure(figsize=(10,5))\n",
        "sns.histplot(df['Revenue'], bins=50, kde=True)\n",
        "plt.title('Distribución de Revenue por Transacción')\n",
        "plt.show()"
      ],
      "execution_count": 14,
      "id": "uitOnM1UQ9mm",
      "outputs": [
        {
          "output_type": "display_data",
          "data": {
            "text/plain": [
              "<Figure size 1000x500 with 1 Axes>"
            ],
            "image/png": "[encoded data removed]"
          },
          "metadata": {}
        }
      ]
    },
    {
      "cell_type": "markdown",
      "metadata": {
        "id": "5pnG5AHNQ9mn"
      },
      "source": [
        "## 3. Agregación a Nivel de Cliente\n",
        "\n",
        "Agrupamos las transacciones por **customer_id** y **category** para obtener la cantidad total de cada producto comprado por cliente."
      ],
      "id": "5pnG5AHNQ9mn"
    },
    {
      "cell_type": "code",
      "metadata": {
        "id": "Zf4VMOfaQ9mn",
        "outputId": "916d51b6-2b72-4079-fa25-b466cb008e85",
        "colab": {
          "base_uri": "https://localhost:8080/"
        }
      },
      "source": [
        "customer_summary = df.groupby('customer_id').agg(\n",
        "    Total_Revenue=('Revenue', 'sum'),\n",
        "    Total_Units=('quantity', 'sum'),\n",
        "    NumCategories=('category', 'nunique')\n",
        ").reset_index()\n",
        "\n",
        "print(customer_summary.head())"
      ],
      "execution_count": 15,
      "id": "Zf4VMOfaQ9mn",
      "outputs": [
        {
          "output_type": "stream",
          "name": "stdout",
          "text": [
            "  customer_id  Total_Revenue  Total_Units  NumCategories\n",
            "0     C100004        7502.00            5              1\n",
            "1     C100005        2400.68            2              1\n",
            "2     C100006         322.56            3              1\n",
            "3     C100012         130.75            5              1\n",
            "4     C100019          35.84            1              1\n"
          ]
        }
      ]
    },
    {
      "cell_type": "markdown",
      "metadata": {
        "id": "qngOeCW_Q9mn"
      },
      "source": [
        "### Crear tabla a nivel de cliente (formato ancho)\n",
        "\n",
        "Convertimos la tabla agrupada en un formato ancho: cada fila es un cliente y cada columna es una categoría. Esto facilita el análisis comparativo."
      ],
      "id": "qngOeCW_Q9mn"
    },
    {
      "cell_type": "code",
      "metadata": {
        "id": "uPqsp3nDQ9mn",
        "outputId": "1330ef4f-9e0b-47bb-dd3d-68e178d43501",
        "colab": {
          "base_uri": "https://localhost:8080/"
        }
      },
      "source": [
        "customer_category = df.pivot_table(index='customer_id', columns='category', values='quantity', aggfunc='sum', fill_value=0)\n",
        "print(customer_category.head())"
      ],
      "execution_count": 16,
      "id": "uPqsp3nDQ9mn",
      "outputs": [
        {
          "output_type": "stream",
          "name": "stdout",
          "text": [
            "category     Books  Clothing  Cosmetics  Food & Beverage  Shoes  Souvenir  \\\n",
            "customer_id                                                                 \n",
            "C100004          0         5          0                0      0         0   \n",
            "C100005          0         0          0                0      2         0   \n",
            "C100006          0         0          0                0      0         0   \n",
            "C100012          0         0          0                5      0         0   \n",
            "C100019          0         0          0                0      0         0   \n",
            "\n",
            "category     Technology  Toys  \n",
            "customer_id                    \n",
            "C100004               0     0  \n",
            "C100005               0     0  \n",
            "C100006               0     3  \n",
            "C100012               0     0  \n",
            "C100019               0     1  \n"
          ]
        }
      ]
    },
    {
      "cell_type": "markdown",
      "metadata": {
        "id": "E8BmeDPmQ9mn"
      },
      "source": [
        "## 4. Transformación con Melt: Formato Largo\n",
        "\n",
        "Convertimos la tabla ancha a formato largo para obtener un DataFrame con tres columnas: `customer_id`, `category` y `quantity`. Este formato es útil para visualizar la distribución de compras por cliente."
      ],
      "id": "E8BmeDPmQ9mn"
    },
    {
      "cell_type": "code",
      "metadata": {
        "id": "kzQ9cPuvQ9mn",
        "outputId": "dc9f3652-b645-4803-d2a4-adb660e12ac8",
        "colab": {
          "base_uri": "https://localhost:8080/",
          "height": 689
        }
      },
      "source": [
        "customer_long = customer_category.reset_index().melt(\n",
        "    id_vars=['customer_id'],  # Mantener el identificador del cliente\n",
        "    var_name='category',      # Nombre de la columna de categorías\n",
        "    value_name='quantity'     # Nombre de la columna de valores\n",
        ")\n",
        "print(customer_long.head())\n",
        "plt.figure(figsize=(12, 5))\n",
        "sns.boxplot(x='category', y='quantity', data=customer_long)\n",
        "plt.xticks(rotation=45)\n",
        "plt.title('Distribución de Cantidad Comprada por Categoría')\n",
        "plt.show()"
      ],
      "execution_count": 21,
      "id": "kzQ9cPuvQ9mn",
      "outputs": [
        {
          "output_type": "stream",
          "name": "stdout",
          "text": [
            "  customer_id category  quantity\n",
            "0     C100004    Books         0\n",
            "1     C100005    Books         0\n",
            "2     C100006    Books         0\n",
            "3     C100012    Books         0\n",
            "4     C100019    Books         0\n"
          ]
        },
        {
          "output_type": "display_data",
          "data": {
            "text/plain": [
              "<Figure size 1200x500 with 1 Axes>"
            ],
            "image/png": "[encoded data removed]"
          },
          "metadata": {}
        }
      ]
    },
    {
      "cell_type": "markdown",
      "metadata": {
        "id": "XiryOGVKQ9mn"
      },
      "source": [
        "## 5. Segmentación Manual usando pd.cut\n",
        "\n",
        "Utilizaremos pd.cut para segmentar a los clientes en función de su **Total Revenue**. Definiremos 3 grupos:\n",
        "\n",
        "- **Bajo**: Clientes con ingresos bajos.\n",
        "- **Medio**: Clientes con ingresos moderados.\n",
        "- **Alto**: Clientes con altos ingresos.\n",
        "\n",
        "Calculamos las métricas a nivel de cliente y aplicamos pd.cut para crear la variable *RevenueSegment*.\n",
        "\n",
        "Además, agrupamos la variable **age** en intervalos para ver la distribución de segmentos por grupo etario."
      ],
      "id": "XiryOGVKQ9mn"
    },
    {
      "cell_type": "code",
      "metadata": {
        "id": "39dxAivzQ9mn"
      },
      "source": [
        "bins = [0, 1000, 5000, customer_summary['Total_Revenue'].max()]\n",
        "labels = ['Bajo', 'Medio', 'Alto']\n",
        "customer_summary['RevenueSegment'] = pd.cut(customer_summary['Total_Revenue'], bins=bins, labels=labels, include_lowest=True)\n"
      ],
      "execution_count": 27,
      "id": "39dxAivzQ9mn",
      "outputs": []
    },
    {
      "cell_type": "markdown",
      "metadata": {
        "id": "ciSMp5yNQ9mo"
      },
      "source": [
        "Además, agrupamos la edad en intervalos para complementar la segmentación."
      ],
      "id": "ciSMp5yNQ9mo"
    },
    {
      "cell_type": "code",
      "metadata": {
        "id": "_NZ7JJDKQ9mo",
        "outputId": "7e81a882-bfe2-4e18-b6d5-f4542db9b043",
        "colab": {
          "base_uri": "https://localhost:8080/"
        }
      },
      "source": [
        "age_bins = [18, 30, 45, 60, 70]\n",
        "age_labels = ['Joven', 'Adulto Joven', 'Adulto', 'Mayor']\n",
        "df['AgeGroup'] = pd.cut(df['age'], bins=age_bins, labels=age_labels, include_lowest=True)\n",
        "print(customer_summary[['customer_id', 'Total_Revenue', 'RevenueSegment']].head())"
      ],
      "execution_count": 28,
      "id": "_NZ7JJDKQ9mo",
      "outputs": [
        {
          "output_type": "stream",
          "name": "stdout",
          "text": [
            "  customer_id  Total_Revenue RevenueSegment\n",
            "0     C100004        7502.00           Alto\n",
            "1     C100005        2400.68          Medio\n",
            "2     C100006         322.56           Bajo\n",
            "3     C100012         130.75           Bajo\n",
            "4     C100019          35.84           Bajo\n"
          ]
        }
      ]
    },
    {
      "cell_type": "markdown",
      "metadata": {
        "id": "ob9h9eiQQ9mo"
      },
      "source": [
        "## 6. Visualización Final de la Segmentación\n",
        "\n",
        "Mostramos una gráfica de barras que resuma la cantidad de clientes en cada segmento de ingresos (*RevenueSegment*). Esta visualización permite identificar de forma rápida qué grupo es el predominante."
      ],
      "id": "ob9h9eiQQ9mo"
    },
    {
      "cell_type": "code",
      "metadata": {
        "id": "RmRieKwrQ9mo",
        "outputId": "e5f8b58c-77d9-45a4-e780-f8f76125eb70",
        "colab": {
          "base_uri": "https://localhost:8080/",
          "height": 687
        }
      },
      "source": [
        "plt.figure(figsize=(8, 5))\n",
        "sns.countplot(x=customer_summary['RevenueSegment'], palette=\"Blues\")\n",
        "plt.title('Cantidad de Clientes por Segmento de Ingresos')\n",
        "plt.xlabel('Segmento de Ingresos')\n",
        "plt.ylabel('Número de Clientes')\n",
        "plt.show()\n",
        "age_revenue_crosstab = pd.crosstab(df['AgeGroup'], customer_summary['RevenueSegment'])\n",
        "print(age_revenue_crosstab)"
      ],
      "execution_count": 29,
      "id": "RmRieKwrQ9mo",
      "outputs": [
        {
          "output_type": "stream",
          "name": "stderr",
          "text": [
            "<ipython-input-29-23d17e3a9357>:2: FutureWarning: \n",
            "\n",
            "Passing `palette` without assigning `hue` is deprecated and will be removed in v0.14.0. Assign the `x` variable to `hue` and set `legend=False` for the same effect.\n",
            "\n",
            "  sns.countplot(x=customer_summary['RevenueSegment'], palette=\"Blues\")\n"
          ]
        },
        {
          "output_type": "display_data",
          "data": {
            "text/plain": [
              "<Figure size 800x500 with 1 Axes>"
            ],
            "image/png": "[encoded data removed]"
          },
          "metadata": {}
        },
        {
          "output_type": "stream",
          "name": "stdout",
          "text": [
            "RevenueSegment   Bajo  Medio  Alto\n",
            "AgeGroup                          \n",
            "Joven           14014   6946  4064\n",
            "Adulto Joven    16143   8080  4607\n",
            "Adulto          15905   8012  4517\n",
            "Mayor            9608   4753  2808\n"
          ]
        }
      ]
    },
    {
      "cell_type": "markdown",
      "metadata": {
        "id": "hBjfwbXfQ9mo"
      },
      "source": [
        "## 7. Conclusiones y Siguientes Pasos\n",
        "\n",
        "### Insights Obtenidos:\n",
        "\n",
        "- La segmentación manual usando **pd.cut** permite clasificar a los clientes según su ingreso total, lo que puede ayudar a identificar clientes de alto valor para campañas de fidelización.\n",
        "- La crosstab entre grupos de edad y segmentos de ingresos revela cómo varían los patrones de compra en función de la edad.\n",
        "\n",
        "### Siguientes Pasos:\n",
        "\n",
        "1. Profundizar en cada segmento analizando otros comportamientos (por ejemplo, diversidad de categorías y métodos de pago).\n",
        "2. Diseñar estrategias de marketing específicas para cada segmento.\n",
        "3. Integrar estos insights en dashboards interactivos para monitoreo en tiempo real.\n",
        "\n",
        "Con este flujo de trabajo se demuestra cómo, sin necesidad de algoritmos avanzados, se puede segmentar a los clientes usando reglas definidas y herramientas de transformación de datos en **pandas**. ¡Éxito en tu análisis!"
      ],
      "id": "hBjfwbXfQ9mo"
    }
  ],
  "metadata": {
    "kernelspec": {
      "display_name": "Python 3",
      "language": "python",
      "name": "python3"
    },
    "language_info": {
      "name": "python",
      "version": "3.x"
    },
    "colab": {
      "provenance": []
    }
  },
  "nbformat": 4,
  "nbformat_minor": 5
}