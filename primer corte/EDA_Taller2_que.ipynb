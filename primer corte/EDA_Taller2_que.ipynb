{
  "cells": [
    {
      "cell_type": "markdown",
      "metadata": {
        "id": "intro-001"
      },
      "source": [
        "# Análisis de Canciones – 20 Preguntas y Preguntas de Negocio\n",
        "\n",
        "En este notebook se plantean 20 preguntas que combinan operaciones de agrupación, filtrado y análisis de negocio sobre el dataset de canciones. Los estudiantes deberán:\n",
        "- Realizar análisis descriptivo básico (dimensiones, resumen estadístico, etc.).\n",
        "- Aplicar agrupaciones y filtros para extraer información (por artista, género, año, etc.).\n",
        "- Reflexionar sobre los resultados y plantear posibles estrategias de negocio en la industria musical.\n",
        "\n",
        "¡Manos a la obra!"
      ]
    },
    {
      "cell_type": "code",
      "source": [
        "!wget https://github.com/javierherrera1996/lecture_analytics/raw/main/songs_normalize.csv"
      ],
      "metadata": {
        "id": "VEYpBp4tClez",
        "outputId": "e43e1427-d7a0-4e1a-e99a-97f80f854950",
        "colab": {
          "base_uri": "https://localhost:8080/"
        }
      },
      "execution_count": 1,
      "outputs": [
        {
          "output_type": "stream",
          "name": "stdout",
          "text": [
            "--2025-03-20 23:40:12--  https://github.com/javierherrera1996/lecture_analytics/raw/main/songs_normalize.csv\n",
            "Resolving github.com (github.com)... 140.82.112.4\n",
            "Connecting to github.com (github.com)|140.82.112.4|:443... connected.\n",
            "HTTP request sent, awaiting response... 302 Found\n",
            "Location: https://raw.githubusercontent.com/javierherrera1996/lecture_analytics/main/songs_normalize.csv [following]\n",
            "--2025-03-20 23:40:13--  https://raw.githubusercontent.com/javierherrera1996/lecture_analytics/main/songs_normalize.csv\n",
            "Resolving raw.githubusercontent.com (raw.githubusercontent.com)... 185.199.109.133, 185.199.108.133, 185.199.110.133, ...\n",
            "Connecting to raw.githubusercontent.com (raw.githubusercontent.com)|185.199.109.133|:443... connected.\n",
            "HTTP request sent, awaiting response... 200 OK\n",
            "Length: 254987 (249K) [text/plain]\n",
            "Saving to: ‘songs_normalize.csv’\n",
            "\n",
            "songs_normalize.csv 100%[===================>] 249.01K  --.-KB/s    in 0.005s  \n",
            "\n",
            "2025-03-20 23:40:13 (44.6 MB/s) - ‘songs_normalize.csv’ saved [254987/254987]\n",
            "\n"
          ]
        }
      ]
    },
    {
      "cell_type": "code",
      "metadata": {
        "id": "importacion-002"
      },
      "execution_count": 2,
      "outputs": [],
      "source": [
        "# Importar librerías necesarias\n",
        "import pandas as pd\n",
        "import numpy as np\n",
        "\n",
        "# Leer el dataset (asegúrate de haber subido 'songs_normalize.csv' a tu entorno de Colab)\n",
        "data = pd.read_csv('songs_normalize.csv')"
      ]
    },
    {
      "cell_type": "markdown",
      "metadata": {
        "id": "pregunta1-003"
      },
      "source": [
        "## Pregunta 1\n",
        "**¿Cuántas filas y columnas tiene el dataset?**\n",
        "\n",
        "_Muestra las dimensiones del DataFrame._"
      ]
    },
    {
      "cell_type": "code",
      "metadata": {
        "id": "resp1-004",
        "outputId": "4fb9270f-1b20-41c6-cff7-504c44396340",
        "colab": {
          "base_uri": "https://localhost:8080/"
        }
      },
      "execution_count": 5,
      "outputs": [
        {
          "output_type": "stream",
          "name": "stdout",
          "text": [
            "Dimensiones del dataset: (2000, 18)\n"
          ]
        }
      ],
      "source": [
        "dimensiones = data.shape\n",
        "print(\"Dimensiones del dataset:\", dimensiones)"
      ]
    },
    {
      "cell_type": "markdown",
      "metadata": {
        "id": "pregunta2-005"
      },
      "source": [
        "## Pregunta 2\n",
        "**¿Cuál es la unidad de observación del dataset?**\n",
        "\n",
        "_Describe qué representa cada fila (por ejemplo, una canción)._"
      ]
    },
    {
      "cell_type": "code",
      "metadata": {
        "id": "resp2-006",
        "outputId": "6ecf11ab-9871-4799-a4f2-f70fb4c852a5",
        "colab": {
          "base_uri": "https://localhost:8080/"
        }
      },
      "execution_count": 6,
      "outputs": [
        {
          "output_type": "stream",
          "name": "stdout",
          "text": [
            "Cada fila representa una canción con sus características y metadatos.\n"
          ]
        }
      ],
      "source": [
        "unidad_observacion = \"Cada fila representa una canción con sus características y metadatos.\"\n",
        "print(unidad_observacion)"
      ]
    },
    {
      "cell_type": "markdown",
      "metadata": {
        "id": "pregunta3-007"
      },
      "source": [
        "## Pregunta 3\n",
        "**Genera un resumen estadístico de las variables numéricas.**\n",
        "\n",
        "_Utiliza el método `describe()` para visualizar conteos, medias, desviaciones, etc._"
      ]
    },
    {
      "cell_type": "code",
      "metadata": {
        "id": "resp3-008",
        "outputId": "7b4dc2ba-3516-4f7c-a49e-2855009781b0",
        "colab": {
          "base_uri": "https://localhost:8080/"
        }
      },
      "execution_count": 7,
      "outputs": [
        {
          "output_type": "stream",
          "name": "stdout",
          "text": [
            "         duration_ms        year   popularity  danceability       energy  \\\n",
            "count    2000.000000  2000.00000  2000.000000   2000.000000  2000.000000   \n",
            "mean   228748.124500  2009.49400    59.872500      0.667438     0.720366   \n",
            "std     39136.569008     5.85996    21.335577      0.140416     0.152745   \n",
            "min    113000.000000  1998.00000     0.000000      0.129000     0.054900   \n",
            "25%    203580.000000  2004.00000    56.000000      0.581000     0.622000   \n",
            "50%    223279.500000  2010.00000    65.500000      0.676000     0.736000   \n",
            "75%    248133.000000  2015.00000    73.000000      0.764000     0.839000   \n",
            "max    484146.000000  2020.00000    89.000000      0.975000     0.999000   \n",
            "\n",
            "               key     loudness         mode  speechiness  acousticness  \\\n",
            "count  2000.000000  2000.000000  2000.000000  2000.000000   2000.000000   \n",
            "mean      5.378000    -5.512434     0.553500     0.103568      0.128955   \n",
            "std       3.615059     1.933482     0.497254     0.096159      0.173346   \n",
            "min       0.000000   -20.514000     0.000000     0.023200      0.000019   \n",
            "25%       2.000000    -6.490250     0.000000     0.039600      0.014000   \n",
            "50%       6.000000    -5.285000     1.000000     0.059850      0.055700   \n",
            "75%       8.000000    -4.167750     1.000000     0.129000      0.176250   \n",
            "max      11.000000    -0.276000     1.000000     0.576000      0.976000   \n",
            "\n",
            "       instrumentalness     liveness      valence        tempo  \n",
            "count       2000.000000  2000.000000  2000.000000  2000.000000  \n",
            "mean           0.015226     0.181216     0.551690   120.122558  \n",
            "std            0.087771     0.140669     0.220864    26.967112  \n",
            "min            0.000000     0.021500     0.038100    60.019000  \n",
            "25%            0.000000     0.088100     0.386750    98.985750  \n",
            "50%            0.000000     0.124000     0.557500   120.021500  \n",
            "75%            0.000068     0.241000     0.730000   134.265500  \n",
            "max            0.985000     0.853000     0.973000   210.851000  \n"
          ]
        }
      ],
      "source": [
        "resumen_estadistico = data.describe()\n",
        "print(resumen_estadistico)"
      ]
    },
    {
      "cell_type": "markdown",
      "metadata": {
        "id": "pregunta4-009"
      },
      "source": [
        "## Pregunta 4\n",
        "**¿Cuál es el promedio de popularidad de las canciones?**\n",
        "\n",
        "_Calcula la media de la columna 'popularity'._"
      ]
    },
    {
      "cell_type": "code",
      "metadata": {
        "id": "resp4-010",
        "outputId": "0e23dfaf-c596-4bdf-f9f3-83d6403dcf3d",
        "colab": {
          "base_uri": "https://localhost:8080/"
        }
      },
      "execution_count": 8,
      "outputs": [
        {
          "output_type": "stream",
          "name": "stdout",
          "text": [
            "Promedio de popularidad: 59.8725\n"
          ]
        }
      ],
      "source": [
        "promedio_popularidad = data['popularity'].mean()\n",
        "print(\"Promedio de popularidad:\", promedio_popularidad)"
      ]
    },
    {
      "cell_type": "markdown",
      "metadata": {
        "id": "pregunta5-011"
      },
      "source": [
        "## Pregunta 5\n",
        "**¿Cuál es la canción más popular?**\n",
        "\n",
        "_Usa el valor máximo de la columna 'popularity' para identificarla._"
      ]
    },
    {
      "cell_type": "code",
      "metadata": {
        "id": "resp5-012",
        "outputId": "f83f6c0e-1cfb-46df-816a-0e88cbf13eb7",
        "colab": {
          "base_uri": "https://localhost:8080/"
        }
      },
      "execution_count": 15,
      "outputs": [
        {
          "output_type": "stream",
          "name": "stdout",
          "text": [
            "Canción más popular:\n",
            " song            Sweater Weather\n",
            "artist        The Neighbourhood\n",
            "popularity                   89\n",
            "Name: 1322, dtype: object\n"
          ]
        }
      ],
      "source": [
        "cancion_mas_popular = data.loc[data['popularity'].idxmax()]\n",
        "print(\"Canción más popular:\\n\", cancion_mas_popular[['song', 'artist', 'popularity']])\n"
      ]
    },
    {
      "cell_type": "markdown",
      "metadata": {
        "id": "pregunta6-013"
      },
      "source": [
        "## Pregunta 6\n",
        "**¿Cuál es el artista más frecuente en el dataset?**\n",
        "\n",
        "_Utiliza `value_counts()` sobre la columna 'artist'._"
      ]
    },
    {
      "cell_type": "code",
      "metadata": {
        "id": "resp6-014",
        "outputId": "69583af4-dc96-4a24-cdb0-6e9da9b2b7ca",
        "colab": {
          "base_uri": "https://localhost:8080/"
        }
      },
      "execution_count": 11,
      "outputs": [
        {
          "output_type": "stream",
          "name": "stdout",
          "text": [
            "Artista más frecuente: Rihanna\n"
          ]
        }
      ],
      "source": [
        "artista_mas_frecuente = data['artist'].value_counts().idxmax()\n",
        "print(\"Artista más frecuente:\", artista_mas_frecuente)"
      ]
    },
    {
      "cell_type": "markdown",
      "metadata": {
        "id": "pregunta7-015"
      },
      "source": [
        "## Pregunta 7\n",
        "**Agrupa por artista y calcula el número de canciones por cada uno.**\n",
        "\n",
        "_Esta agrupación ayudará a identificar quiénes tienen mayor presencia en el dataset._"
      ]
    },
    {
      "cell_type": "code",
      "metadata": {
        "id": "resp7-016",
        "outputId": "8fcf9593-d573-4f52-a388-f7592231a3a1",
        "colab": {
          "base_uri": "https://localhost:8080/"
        }
      },
      "execution_count": 35,
      "outputs": [
        {
          "output_type": "stream",
          "name": "stdout",
          "text": [
            "             artist  num_canciones\n",
            "628         Rihanna             25\n",
            "219           Drake             23\n",
            "239          Eminem             21\n",
            "127   Calvin Harris             20\n",
            "118  Britney Spears             19\n",
            "..              ...            ...\n",
            "828       blink-182              1\n",
            "829            fun.              1\n",
            "830     girl in red              1\n",
            "832             iio              1\n",
            "833        t.A.T.u.              1\n",
            "\n",
            "[835 rows x 2 columns]\n"
          ]
        }
      ],
      "source": [
        "canciones_por_artista = data.groupby('artist')['song'].count().reset_index().rename(columns={'song': 'num_canciones'})\n",
        "print(canciones_por_artista.sort_values(by='num_canciones', ascending=False))"
      ]
    },
    {
      "cell_type": "markdown",
      "metadata": {
        "id": "pregunta8-017"
      },
      "source": [
        "## Pregunta 8\n",
        "**Agrupa por artista y calcula la suma de popularidad.**\n",
        "\n",
        "_Identifica el artista cuya suma de popularidad es mayor (podría interpretarse como \"hit maker\")._"
      ]
    },
    {
      "cell_type": "code",
      "metadata": {
        "id": "resp8-018",
        "outputId": "02ea3b2f-d68b-4bc1-d4fd-c90aa3ab60b0",
        "colab": {
          "base_uri": "https://localhost:8080/"
        }
      },
      "execution_count": 16,
      "outputs": [
        {
          "output_type": "stream",
          "name": "stdout",
          "text": [
            "             artist  popularity\n",
            "628         Rihanna        1803\n",
            "239          Eminem        1519\n",
            "219           Drake        1424\n",
            "127   Calvin Harris        1356\n",
            "118  Britney Spears        1198\n",
            "..              ...         ...\n",
            "518     Michel Teló           0\n",
            "504   Martin Jensen           0\n",
            "462     Loud Luxury           0\n",
            "759        Tim Berg           0\n",
            "18              AJR           0\n",
            "\n",
            "[835 rows x 2 columns]\n"
          ]
        }
      ],
      "source": [
        "popularidad_por_artista = data.groupby('artist')['popularity'].sum().reset_index().sort_values(by='popularity', ascending=False)\n",
        "print(popularidad_por_artista)"
      ]
    },
    {
      "cell_type": "markdown",
      "metadata": {
        "id": "pregunta9-019"
      },
      "source": [
        "## Pregunta 9\n",
        "**Agrupa por género y calcula la suma de popularidad.**\n",
        "\n",
        "_Determina cuál es el género con mayor popularidad total._"
      ]
    },
    {
      "cell_type": "code",
      "metadata": {
        "id": "resp9-020",
        "outputId": "e58c1405-a14d-4de2-e945-53e7e316fe85",
        "colab": {
          "base_uri": "https://localhost:8080/"
        }
      },
      "execution_count": 17,
      "outputs": [
        {
          "output_type": "stream",
          "name": "stdout",
          "text": [
            "                                    genre  popularity\n",
            "30                                    pop       25403\n",
            "19                           hip hop, pop       17761\n",
            "21                      hip hop, pop, R&B       14408\n",
            "31                  pop, Dance/Electronic       11794\n",
            "33                               pop, R&B       10284\n",
            "14                                hip hop        7979\n",
            "20         hip hop, pop, Dance/Electronic        4660\n",
            "44                                   rock        3885\n",
            "54                              rock, pop        2860\n",
            "53                            rock, metal        2695\n",
            "0                        Dance/Electronic        2122\n",
            "39                             pop, latin        1613\n",
            "40                              pop, rock        1500\n",
            "58                                  set()        1264\n",
            "15              hip hop, Dance/Electronic         970\n",
            "28                                  latin         936\n",
            "25                    hip hop, pop, latin         893\n",
            "43                       pop, rock, metal         826\n",
            "4                                     R&B         786\n",
            "29                                  metal         648\n",
            "41            pop, rock, Dance/Electronic         629\n",
            "26                     hip hop, pop, rock         550\n",
            "11                                country         530\n",
            "36                           pop, country         527\n",
            "32                     pop, Folk/Acoustic         424\n",
            "55            rock, pop, Dance/Electronic         411\n",
            "34             pop, R&B, Dance/Electronic         404\n",
            "56                       rock, pop, metal         242\n",
            "22    hip hop, pop, R&B, Dance/Electronic         193\n",
            "16                           hip hop, R&B         191\n",
            "42               pop, rock, Folk/Acoustic         158\n",
            "1                      Folk/Acoustic, pop         156\n",
            "23               hip hop, pop, R&B, latin         150\n",
            "27                     hip hop, rock, pop         150\n",
            "8   World/Traditional, pop, Folk/Acoustic         135\n",
            "50                     rock, blues, latin         123\n",
            "9                 World/Traditional, rock         120\n",
            "6              World/Traditional, hip hop         118\n",
            "38              pop, easy listening, jazz         115\n",
            "57     rock, pop, metal, Dance/Electronic          76\n",
            "13                         easy listening          72\n",
            "18       hip hop, latin, Dance/Electronic          72\n",
            "47               rock, Folk/Acoustic, pop          71\n",
            "17                       hip hop, country          69\n",
            "5        World/Traditional, Folk/Acoustic          69\n",
            "3                Folk/Acoustic, rock, pop          68\n",
            "46    rock, Folk/Acoustic, easy listening          65\n",
            "51                        rock, classical          63\n",
            "24                  hip hop, pop, country          62\n",
            "7                  World/Traditional, pop          61\n",
            "52                   rock, easy listening          60\n",
            "35               pop, R&B, easy listening          60\n",
            "49                            rock, blues          59\n",
            "48          rock, R&B, Folk/Acoustic, pop          58\n",
            "37  pop, easy listening, Dance/Electronic          58\n",
            "45                 rock, Dance/Electronic          54\n",
            "10           World/Traditional, rock, pop          35\n",
            "12                         country, latin           0\n",
            "2                     Folk/Acoustic, rock           0\n"
          ]
        }
      ],
      "source": [
        "popularidad_por_genero = data.groupby('genre')['popularity'].sum().reset_index().sort_values(by='popularity', ascending=False)\n",
        "print(popularidad_por_genero)"
      ]
    },
    {
      "cell_type": "markdown",
      "metadata": {
        "id": "pregunta10-021"
      },
      "source": [
        "## Pregunta 10\n",
        "**¿Cuál es el promedio de duración de las canciones (en milisegundos)?**\n",
        "\n",
        "_Calcula la media de la columna 'duration_ms'._"
      ]
    },
    {
      "cell_type": "code",
      "metadata": {
        "id": "resp10-022",
        "outputId": "8b3e4baa-ebfa-40bd-8a38-fc0d0aedec76",
        "colab": {
          "base_uri": "https://localhost:8080/"
        }
      },
      "execution_count": 18,
      "outputs": [
        {
          "output_type": "stream",
          "name": "stdout",
          "text": [
            "Promedio de duración (ms): 228748.1245\n"
          ]
        }
      ],
      "source": [
        "promedio_duracion = data['duration_ms'].mean()\n",
        "print(\"Promedio de duración (ms):\", promedio_duracion)"
      ]
    },
    {
      "cell_type": "markdown",
      "metadata": {
        "id": "pregunta11-023"
      },
      "source": [
        "## Pregunta 11\n",
        "**Agrupa por año y calcula el promedio de popularidad.**\n",
        "\n",
        "_Identifica en qué año las canciones tuvieron mayor popularidad promedio._"
      ]
    },
    {
      "cell_type": "code",
      "metadata": {
        "id": "resp11-024",
        "outputId": "9116b3e4-ec82-4559-ed5a-0ecdbd19e6cc",
        "colab": {
          "base_uri": "https://localhost:8080/"
        }
      },
      "execution_count": 19,
      "outputs": [
        {
          "output_type": "stream",
          "name": "stdout",
          "text": [
            "    year  popularity\n",
            "20  2018   70.850467\n",
            "1   1999   64.921053\n",
            "10  2008   63.721649\n",
            "21  2019   63.011236\n",
            "4   2002   62.400000\n",
            "7   2005   61.759615\n",
            "11  2009   61.535714\n",
            "12  2010   60.747664\n",
            "14  2012   60.556522\n",
            "9   2007   59.925532\n",
            "3   2001   59.407407\n",
            "16  2014   59.384615\n",
            "5   2003   58.793814\n",
            "13  2011   58.565657\n",
            "2   2000   58.554054\n",
            "6   2004   58.427083\n",
            "17  2015   57.747475\n",
            "8   2006   57.389474\n",
            "15  2013   54.786517\n",
            "18  2016   54.171717\n",
            "19  2017   53.882883\n",
            "0   1998   49.000000\n",
            "22  2020   43.333333\n"
          ]
        }
      ],
      "source": [
        "popularidad_por_anio = data.groupby('year')['popularity'].mean().reset_index().sort_values(by='popularity', ascending=False)\n",
        "print(popularidad_por_anio)"
      ]
    },
    {
      "cell_type": "markdown",
      "metadata": {
        "id": "pregunta12-025"
      },
      "source": [
        "## Pregunta 12\n",
        "**Filtra las canciones explícitas y no explícitas y compara su popularidad promedio.**\n",
        "\n",
        "_Analiza si las canciones con contenido explícito tienen mayor o menor popularidad._"
      ]
    },
    {
      "cell_type": "code",
      "metadata": {
        "id": "resp12-026",
        "outputId": "09202ac8-f2d5-41c2-deaa-d9d6951cf8cd",
        "colab": {
          "base_uri": "https://localhost:8080/"
        }
      },
      "execution_count": 20,
      "outputs": [
        {
          "output_type": "stream",
          "name": "stdout",
          "text": [
            "explicit\n",
            "False    59.259489\n",
            "True     61.484574\n",
            "Name: popularity, dtype: float64\n"
          ]
        }
      ],
      "source": [
        "popularidad_explicitas = data.groupby('explicit')['popularity'].mean()\n",
        "print(popularidad_explicitas)"
      ]
    },
    {
      "cell_type": "markdown",
      "metadata": {
        "id": "pregunta13-027"
      },
      "source": [
        "## Pregunta 13 (Negocio)\n",
        "**Identifica qué artistas tienen un promedio de popularidad mayor a 75.**\n",
        "\n",
        "_Estos artistas podrían considerarse \"hit makers\". Filtra y agrupa la información y comenta las implicaciones para la industria musical._"
      ]
    },
    {
      "cell_type": "code",
      "metadata": {
        "id": "resp13-028",
        "outputId": "1300293d-d2ce-4296-9aba-09d3863b66c5",
        "colab": {
          "base_uri": "https://localhost:8080/"
        }
      },
      "execution_count": 21,
      "outputs": [
        {
          "output_type": "stream",
          "name": "stdout",
          "text": [
            "                    artist  popularity\n",
            "767              Tom Odell   88.000000\n",
            "733      The Neighbourhood   87.000000\n",
            "796                 WILLOW   86.000000\n",
            "436          Lewis Capaldi   84.000000\n",
            "296          Gesaffelstein   84.000000\n",
            "..                     ...         ...\n",
            "51                Anuel AA   75.500000\n",
            "444              Lil Nas X   75.333333\n",
            "455            Linkin Park   75.333333\n",
            "164               Coldplay   75.307692\n",
            "621  Red Hot Chili Peppers   75.166667\n",
            "\n",
            "[85 rows x 2 columns]\n"
          ]
        }
      ],
      "source": [
        "artistas_hitmakers = data.groupby('artist')['popularity'].mean().reset_index()\n",
        "artistas_hitmakers = artistas_hitmakers[artistas_hitmakers['popularity'] > 75]\n",
        "print(artistas_hitmakers.sort_values(by='popularity', ascending=False))"
      ]
    },
    {
      "cell_type": "markdown",
      "metadata": {
        "id": "pregunta14-029"
      },
      "source": [
        "## Pregunta 14\n",
        "**Filtra las canciones del género 'pop' y calcula el promedio de danceability y energy.**\n",
        "\n",
        "_Esto permitirá evaluar características musicales del pop._"
      ]
    },
    {
      "cell_type": "code",
      "metadata": {
        "id": "resp14-030",
        "outputId": "f5c8db98-59b3-45f7-cee3-1d06b6ebd182",
        "colab": {
          "base_uri": "https://localhost:8080/"
        }
      },
      "execution_count": 23,
      "outputs": [
        {
          "output_type": "stream",
          "name": "stdout",
          "text": [
            "danceability   NaN\n",
            "energy         NaN\n",
            "dtype: float64\n"
          ]
        }
      ],
      "source": [
        "pop_songs = data[data['genre'] == 'Pop']\n",
        "promedio_dance_energy = pop_songs[['danceability', 'energy']].mean()\n",
        "print(promedio_dance_energy)"
      ]
    },
    {
      "cell_type": "markdown",
      "metadata": {
        "id": "pregunta15-031"
      },
      "source": [
        "## Pregunta 15 (Negocio)\n",
        "**¿Qué insights se pueden obtener de la relación entre danceability y popularidad?**\n",
        "\n",
        "_Reflexiona sobre cómo la capacidad de baile (danceability) puede influir en el éxito comercial de una canción. (Respuesta abierta)_"
      ]
    },
    {
      "cell_type": "code",
      "metadata": {
        "id": "resp15-032",
        "outputId": "4fd232a7-270a-47a8-f541-a20bc6eec4f5",
        "colab": {
          "base_uri": "https://localhost:8080/"
        }
      },
      "execution_count": 24,
      "outputs": [
        {
          "output_type": "stream",
          "name": "stdout",
          "text": [
            "              danceability  popularity\n",
            "danceability      1.000000   -0.003546\n",
            "popularity       -0.003546    1.000000\n"
          ]
        }
      ],
      "source": [
        "correlacion_dance_popularidad = data[['danceability', 'popularity']].corr()\n",
        "print(correlacion_dance_popularidad)"
      ]
    },
    {
      "cell_type": "markdown",
      "metadata": {
        "id": "pregunta16-033"
      },
      "source": [
        "## Pregunta 16\n",
        "**Agrupa por 'mode' y calcula el promedio de loudness.**\n",
        "\n",
        "_El valor de 'mode' (mayormente 0 o 1) puede tener implicaciones en la tonalidad; analiza si hay diferencias en el loudness._"
      ]
    },
    {
      "cell_type": "code",
      "metadata": {
        "id": "resp16-034",
        "outputId": "1cf698c2-5af8-4cad-e9f7-6475ac484b95",
        "colab": {
          "base_uri": "https://localhost:8080/"
        }
      },
      "execution_count": 25,
      "outputs": [
        {
          "output_type": "stream",
          "name": "stdout",
          "text": [
            "mode\n",
            "0   -5.451888\n",
            "1   -5.561276\n",
            "Name: loudness, dtype: float64\n"
          ]
        }
      ],
      "source": [
        "loudness_por_mode = data.groupby('mode')['loudness'].mean()\n",
        "print(loudness_por_mode)"
      ]
    },
    {
      "cell_type": "markdown",
      "metadata": {
        "id": "pregunta17-035"
      },
      "source": [
        "## Pregunta 17 (Negocio)\n",
        "**Analiza la influencia de 'acousticness' en la popularidad.**\n",
        "\n",
        "_Agrupa las canciones en rangos (por ejemplo, baja, media y alta acousticness) y calcula el promedio de popularidad para cada grupo. Comenta las posibles implicaciones para productores musicales._"
      ]
    },
    {
      "cell_type": "code",
      "metadata": {
        "id": "resp17-036"
      },
      "execution_count": 26,
      "outputs": [],
      "source": [
        "# Respuesta 17: Agrupar por rangos de acousticness\n"
      ]
    },
    {
      "cell_type": "code",
      "source": [
        "bins = [0, 0.33, 0.66, 1]\n",
        "labels = ['Baja', 'Media', 'Alta']\n",
        "data['acousticness_level'] = pd.cut(data['acousticness'], bins=bins, labels=labels, include_lowest=True)\n",
        "popularidad_acousticness = data.groupby('acousticness_level')['popularity'].mean()\n",
        "print(popularidad_acousticness)"
      ],
      "metadata": {
        "id": "nDDVYMciDgDD",
        "outputId": "31b6a728-332c-4460-ec71-b9850aee862a",
        "colab": {
          "base_uri": "https://localhost:8080/"
        }
      },
      "execution_count": 31,
      "outputs": [
        {
          "output_type": "stream",
          "name": "stdout",
          "text": [
            "acousticness_level\n",
            "Baja     59.925821\n",
            "Media    57.746032\n",
            "Alta     66.711111\n",
            "Name: popularity, dtype: float64\n"
          ]
        },
        {
          "output_type": "stream",
          "name": "stderr",
          "text": [
            "<ipython-input-31-ef31c61b4bd2>:4: FutureWarning: The default of observed=False is deprecated and will be changed to True in a future version of pandas. Pass observed=False to retain current behavior or observed=True to adopt the future default and silence this warning.\n",
            "  popularidad_acousticness = data.groupby('acousticness_level')['popularity'].mean()\n"
          ]
        }
      ]
    },
    {
      "cell_type": "markdown",
      "metadata": {
        "id": "pregunta18-037"
      },
      "source": [
        "## Pregunta 18\n",
        "**Filtra las canciones con un tempo entre 100 y 120 BPM y cuenta cuántas hay.**\n",
        "\n",
        "_Este filtro puede ayudar a identificar canciones con un ritmo intermedio, común en varios géneros populares._"
      ]
    },
    {
      "cell_type": "code",
      "metadata": {
        "id": "resp18-038",
        "outputId": "b2208410-5fec-4ce1-813a-475f3a2024ca",
        "colab": {
          "base_uri": "https://localhost:8080/"
        }
      },
      "execution_count": 27,
      "outputs": [
        {
          "output_type": "stream",
          "name": "stdout",
          "text": [
            "Número de canciones con tempo entre 100 y 120 BPM: 434\n"
          ]
        }
      ],
      "source": [
        "canciones_tempo_medio = data[(data['tempo'] >= 100) & (data['tempo'] <= 120)]\n",
        "print(\"Número de canciones con tempo entre 100 y 120 BPM:\", len(canciones_tempo_medio))\n"
      ]
    },
    {
      "cell_type": "markdown",
      "metadata": {
        "id": "pregunta19-039"
      },
      "source": [
        "## Pregunta 19\n",
        "**Agrupa por 'explicit' y calcula el promedio de 'valence'.**\n",
        "\n",
        "_El 'valence' mide el tono emocional (positivo o negativo) de una canción. Compara canciones explícitas y no explícitas._"
      ]
    },
    {
      "cell_type": "code",
      "metadata": {
        "id": "resp19-040",
        "outputId": "c250abc0-3a23-46ca-a0f2-06dbafe7a776",
        "colab": {
          "base_uri": "https://localhost:8080/"
        }
      },
      "execution_count": 32,
      "outputs": [
        {
          "output_type": "stream",
          "name": "stdout",
          "text": [
            "explicit\n",
            "False    0.557879\n",
            "True     0.535413\n",
            "Name: valence, dtype: float64\n"
          ]
        }
      ],
      "source": [
        "valence_por_explicit = data.groupby('explicit')['valence'].mean()\n",
        "print(valence_por_explicit)"
      ]
    },
    {
      "cell_type": "markdown",
      "metadata": {
        "id": "pregunta20-041"
      },
      "source": [
        "## Pregunta 20 (Negocio)\n",
        "**Basado en el análisis previo (popularidad, atributos musicales y agrupaciones), ¿qué estrategias recomendarías a un productor musical para diseñar hits?**\n",
        "\n",
        "_Considera aspectos como el estilo musical, características sonoras (danceability, energy, acousticness) y tendencias por género. (Respuesta abierta)_"
      ]
    },
    {
      "cell_type": "code",
      "metadata": {
        "id": "resp20-042",
        "outputId": "ee954168-6363-4b4d-a73b-1b06fc79f88d",
        "colab": {
          "base_uri": "https://localhost:8080/"
        }
      },
      "execution_count": 34,
      "outputs": [
        {
          "output_type": "stream",
          "name": "stdout",
          "text": [
            "\n",
            "Para diseñar hits musicales, un productor podría enfocarse en:\n",
            "- Canciones con alto danceability, ya que suelen correlacionarse con mayor popularidad.\n",
            "- Géneros populares como Pop y Hip-Hop, que dominan en términos de popularidad.\n",
            "- Artistas con historial de éxitos para colaboraciones estratégicas.\n",
            "- Tonalidades y características sonoras con alta energía y ritmo intermedio (100-120 BPM).\n",
            "- Uso de elementos acústicos equilibrados, ya que la popularidad varía según el nivel de acousticness.\n",
            "\n"
          ]
        }
      ],
      "source": [
        "estrategias_productores = \"\"\"\n",
        "Para diseñar hits musicales, un productor podría enfocarse en:\n",
        "- Canciones con alto danceability, ya que suelen correlacionarse con mayor popularidad.\n",
        "- Géneros populares como Pop y Hip-Hop, que dominan en términos de popularidad.\n",
        "- Artistas con historial de éxitos para colaboraciones estratégicas.\n",
        "- Tonalidades y características sonoras con alta energía y ritmo intermedio (100-120 BPM).\n",
        "- Uso de elementos acústicos equilibrados, ya que la popularidad varía según el nivel de acousticness.\n",
        "\"\"\"\n",
        "print(estrategias_productores)"
      ]
    },
    {
      "cell_type": "markdown",
      "metadata": {
        "id": "conclusion-043"
      },
      "source": [
        "## Conclusión\n",
        "\n",
        "En este notebook se han planteado 20 preguntas que combinan operaciones técnicas de análisis (agrupaciones, filtros y estadísticas) con reflexiones de negocio en el contexto de la industria musical. Estos ejercicios permiten a los estudiantes extraer insights y proponer estrategias basadas en el comportamiento y características de las canciones."
      ]
    }
  ],
  "metadata": {
    "colab": {
      "provenance": []
    },
    "kernelspec": {
      "display_name": "Python 3",
      "language": "python",
      "name": "python3"
    },
    "language_info": {
      "name": "python"
    }
  },
  "nbformat": 4,
  "nbformat_minor": 0
}