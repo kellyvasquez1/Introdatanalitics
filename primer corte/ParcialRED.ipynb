{
  "cells": [
    {
      "cell_type": "markdown",
      "id": "2ecce53c-101a-4ce2-95d7-5d56e7c16ad2",
      "metadata": {
        "id": "2ecce53c-101a-4ce2-95d7-5d56e7c16ad2"
      },
      "source": [
        "# Análisis EDA y Decisiones de Negocio en Ventas de Automóviles\n",
        "\n",
        "Este notebook contiene 15 ejercicios que combinan análisis exploratorio de datos (EDA) y reflexiones críticas de negocio. Cada punto incluye instrucciones detalladas, paso a paso, para realizar agrupaciones y filtros, de modo que se guíe al estudiante en cada parte del proceso.\n",
        "\n",
        "La estructura del dataset es la siguiente:\n",
        "\n",
        "```\n",
        "year, make, model, trim, body, transmission, vin, state, condition, odometer, color, interior, seller, mmr, sellingprice, saledate\n",
        "```\n",
        "\n",
        "¡Comienza el análisis y sigue cada paso para proponer estrategias de negocio basadas en los resultados!"
      ]
    },
    {
      "cell_type": "code",
      "source": [
        "# Descargar y descomprimir el dataset\n",
        "!wget https://github.com/javierherrera1996/lecture_analytics/raw/main/cars_dataset.zip\n",
        "!unzip -o cars_dataset.zip"
      ],
      "metadata": {
        "colab": {
          "base_uri": "https://localhost:8080/"
        },
        "id": "11maYD7PCa6r",
        "outputId": "be84752b-919a-4ccf-97e0-a50a96791b3b",
        "collapsed": true
      },
      "id": "11maYD7PCa6r",
      "execution_count": 2,
      "outputs": [
        {
          "output_type": "stream",
          "name": "stdout",
          "text": [
            "--2025-03-13 20:08:51--  https://github.com/javierherrera1996/lecture_analytics/raw/main/cars_dataset.zip\n",
            "Resolving github.com (github.com)... 140.82.114.4\n",
            "Connecting to github.com (github.com)|140.82.114.4|:443... connected.\n",
            "HTTP request sent, awaiting response... 302 Found\n",
            "Location: https://raw.githubusercontent.com/javierherrera1996/lecture_analytics/main/cars_dataset.zip [following]\n",
            "--2025-03-13 20:08:51--  https://raw.githubusercontent.com/javierherrera1996/lecture_analytics/main/cars_dataset.zip\n",
            "Resolving raw.githubusercontent.com (raw.githubusercontent.com)... 185.199.108.133, 185.199.109.133, 185.199.110.133, ...\n",
            "Connecting to raw.githubusercontent.com (raw.githubusercontent.com)|185.199.108.133|:443... connected.\n",
            "HTTP request sent, awaiting response... 200 OK\n",
            "Length: 19753181 (19M) [application/zip]\n",
            "Saving to: ‘cars_dataset.zip.1’\n",
            "\n",
            "cars_dataset.zip.1  100%[===================>]  18.84M  87.5MB/s    in 0.2s    \n",
            "\n",
            "2025-03-13 20:08:52 (87.5 MB/s) - ‘cars_dataset.zip.1’ saved [19753181/19753181]\n",
            "\n",
            "Archive:  cars_dataset.zip\n",
            "  inflating: car_prices.csv          \n"
          ]
        }
      ]
    },
    {
      "cell_type": "code",
      "source": [],
      "metadata": {
        "id": "N7PFowgHG959"
      },
      "id": "N7PFowgHG959",
      "execution_count": null,
      "outputs": []
    },
    {
      "cell_type": "markdown",
      "id": "a73c3ad6-7d59-4d03-9bfe-8b49f0b066c5",
      "metadata": {
        "id": "a73c3ad6-7d59-4d03-9bfe-8b49f0b066c5"
      },
      "source": [
        "## 1. Dimensiones y Representatividad del Dataset\n",
        "\n",
        "a) Carga el dataset (desde un archivo CSV) y muestra sus dimensiones (número de filas y columnas).\n",
        "\n",
        "b) Describe brevemente qué representa cada fila y reflexiona: ¿Crees que el dataset es representativo del mercado de ventas de automóviles? Justifica tu respuesta."
      ]
    },
    {
      "cell_type": "code",
      "execution_count": 31,
      "id": "abb22d3d-9e7f-4c88-8b30-d5d5d7c1d0f3",
      "metadata": {
        "id": "abb22d3d-9e7f-4c88-8b30-d5d5d7c1d0f3",
        "outputId": "7f033898-7090-41c1-c96d-72a7af547e46",
        "colab": {
          "base_uri": "https://localhost:8080/"
        }
      },
      "outputs": [
        {
          "output_type": "stream",
          "name": "stdout",
          "text": [
            "El dataset tiene 558837 filas y 16 columnas.\n",
            "Cada fila representa un vehículo en venta con características y precio.\n",
            "La representatividad depende de la fuente de datos. Si proviene de un solo sitio web o región, podría no reflejar el mercado global.\n"
          ]
        }
      ],
      "source": [
        "import pandas as pd\n",
        "\n",
        "data = pd.read_csv('car_prices.csv')\n",
        "num_filas, num_columnas = data.shape\n",
        "print(f\"El dataset tiene {num_filas} filas y {num_columnas} columnas.\")\n",
        "\n",
        "print(\"Cada fila representa un vehículo en venta con características y precio.\")\n",
        "print(\"La representatividad depende de la fuente de datos. Si proviene de un solo sitio web o región, podría no reflejar el mercado global.\")"
      ]
    },
    {
      "cell_type": "markdown",
      "id": "14f4b9a1-f6c8-4b24-8cdd-4b1e1f4a0a11",
      "metadata": {
        "id": "14f4b9a1-f6c8-4b24-8cdd-4b1e1f4a0a11"
      },
      "source": [
        "## 2. Ventas Totales y Promedio\n",
        "\n",
        "a) Calcula la suma total y el promedio de la columna `sellingprice`.\n",
        "\n",
        "b) Caso de negocio: Si el precio promedio es bajo, ¿qué estrategias de precio o promociones sugerirías para aumentar la rentabilidad? Explica tu respuesta."
      ]
    },
    {
      "cell_type": "code",
      "execution_count": null,
      "id": "b28e4e50-870b-4dc5-80a9-0ab348c8d45b",
      "metadata": {
        "id": "b28e4e50-870b-4dc5-80a9-0ab348c8d45b"
      },
      "outputs": [],
      "source": [
        "a. ventas_totales = data['sellingprice'].sum()\n",
        "venta_promedio = data['sellingprice'].mean()\n",
        "print(f\"Ventas totales: ${ventas_totales:,.2f}\")\n",
        "print(f\"Precio promedio de venta: ${venta_promedio:,.2f}\")\n",
        "\n",
        "b.  print(\"si el precio promedio es bajo,se pueden aplicar estrategias como financiamiento flexible o paquetes con mantenimiento incluido lo cual podría aumentar la rentabilidad\")"
      ]
    },
    {
      "cell_type": "markdown",
      "id": "dbeea89a-9e05-4d03-86a4-dbc27f1c96cb",
      "metadata": {
        "id": "dbeea89a-9e05-4d03-86a4-dbc27f1c96cb"
      },
      "source": [
        "## 3. Distribución de Ventas por Marca\n",
        "\n",
        "a) Utiliza `value_counts()` para determinar cuántas ventas se registraron por cada marca (`make`).\n",
        "\n",
        "b) Caso de negocio: ¿Qué marcas parecen dominar el mercado? Basado en esta distribución, ¿en qué marcas invertirías en publicidad y por qué?"
      ]
    },
    {
      "cell_type": "code",
      "execution_count": 68,
      "id": "8f90bb50-9a28-45b0-8a9d-d6bd35f1e847",
      "metadata": {
        "id": "8f90bb50-9a28-45b0-8a9d-d6bd35f1e847",
        "outputId": "ec91da69-a0cf-40ad-f2df-b0a98417b3eb",
        "colab": {
          "base_uri": "https://localhost:8080/"
        }
      },
      "outputs": [
        {
          "output_type": "stream",
          "name": "stdout",
          "text": [
            "Ventas por marca:\n",
            " make\n",
            "Ford          93554\n",
            "Chevrolet     60197\n",
            "Nissan        53946\n",
            "Toyota        39871\n",
            "Dodge         30710\n",
            "              ...  \n",
            "airstream         1\n",
            "ford tk           1\n",
            "chev truck        1\n",
            "hyundai tk        1\n",
            "Lotus             1\n",
            "Name: count, Length: 96, dtype: int64\n",
            "Las marcas que parecen dominar son como Ford y chevrolet, ya que ofrecen buenos precios y buena calidad, tambien post venta y por eso las personas lo prefieren\n",
            "Invertir en publicidad para las marcas con más ventas y mayor influencia, tambien evaluar estrategias para las marcas que sean menos populares\n"
          ]
        }
      ],
      "source": [
        "ventas_por_marca = data['make'].value_counts()\n",
        "print(\"Ventas por marca:\\n\", ventas_por_marca)\n",
        "print(\"Las marcas que parecen dominar son como Ford y chevrolet, ya que ofrecen buenos precios y buena calidad, tambien post venta y por eso las personas lo prefieren\")\n",
        "print(\"Invertir en publicidad para las marcas con más ventas y mayor influencia, tambien evaluar estrategias para las marcas que sean menos populares\")"
      ]
    },
    {
      "cell_type": "markdown",
      "id": "7ed2d28a-c6f5-4b26-a3f4-50bb6e4b5a20",
      "metadata": {
        "id": "7ed2d28a-c6f5-4b26-a3f4-50bb6e4b5a20"
      },
      "source": [
        "## 4. Segmentación de Clientes por Kilometraje\n",
        "\n",
        "a) Crea un DataFrame filtrado que incluya únicamente las ventas donde el `odometer` es menor a 20,000 millas. Cuantos Vehiculos tiene este dataset?\n",
        "\n",
        "b) Caso de negocio: Este segmento de vehículos con bajo uso puede tener mayor valor percibido. ¿Cómo ajustarías la estrategia de marketing para este grupo?"
      ]
    },
    {
      "cell_type": "code",
      "execution_count": 30,
      "id": "e18ab68c-3ab4-44c8-8a5f-88d3421c8e5d",
      "metadata": {
        "id": "e18ab68c-3ab4-44c8-8a5f-88d3421c8e5d",
        "outputId": "d99cd897-53a6-46c1-ff10-14339ffda90f",
        "colab": {
          "base_uri": "https://localhost:8080/"
        }
      },
      "outputs": [
        {
          "output_type": "stream",
          "name": "stdout",
          "text": [
            "Número de vehículos con menos de 20,000 millas: 84206\n",
            "Venderlos como 'seminuevos' con garantía extendida y precios premium\n"
          ]
        }
      ],
      "source": [
        "low_mileage_cars = data[data['odometer'] < 20000]\n",
        "print(\"Número de vehículos con menos de 20,000 millas:\", low_mileage_cars.shape[0])\n",
        "print (\"Venderlos como 'seminuevos' con garantía extendida y precios premium\")"
      ]
    },
    {
      "cell_type": "markdown",
      "id": "1e21fcab-28e8-4af9-a2c1-1b1e2e3ec9e8",
      "metadata": {
        "id": "1e21fcab-28e8-4af9-a2c1-1b1e2e3ec9e8"
      },
      "source": [
        "## 5. Agrupación por Marca: Precio y Volumen\n",
        "\n",
        "a) Agrupa el dataset por `make` y calcula:\n",
        "   - El promedio de `sellingprice`.\n",
        "   - La cantidad de ventas por marca (usa el conteo de registros como proxy).\n",
        "\n",
        "b) Caso de negocio: Si una marca tiene alto volumen pero precios bajos, ¿qué medidas recomendarías para mejorar el margen?\n",
        "\n",
        "**Paso a paso:**\n",
        "1. Realiza la agrupación.\n",
        "2. Renombra las columnas para que sean claras.\n",
        "3. Interpreta el resultado antes de pasar al siguiente filtro o análisis."
      ]
    },
    {
      "cell_type": "code",
      "execution_count": 50,
      "id": "f38e1e29-1b4f-4d59-8b1e-3b1b50cb68c8",
      "metadata": {
        "id": "f38e1e29-1b4f-4d59-8b1e-3b1b50cb68c8",
        "outputId": "6058b82f-8026-4a54-87fa-1d3727b0ed8c",
        "colab": {
          "base_uri": "https://localhost:8080/"
        }
      },
      "outputs": [
        {
          "output_type": "stream",
          "name": "stdout",
          "text": [
            "           Marca  Precio Promedio de Venta  Unidades Vendidas\n",
            "0          Acura              14017.268260               5901\n",
            "1   Aston Martin              54812.000000                 25\n",
            "2           Audi              19915.432782               5869\n",
            "3            BMW              21441.895748              20719\n",
            "4        Bentley              74367.672414                116\n",
            "..           ...                       ...                ...\n",
            "91        subaru               3710.416667                 60\n",
            "92        suzuki               4810.000000                  5\n",
            "93        toyota               7339.105263                 95\n",
            "94    volkswagen               6145.833333                 24\n",
            "95            vw              13672.916667                 24\n",
            "\n",
            "[96 rows x 3 columns]\n",
            "Top 5 marcas con mayor volumen de ventas y su precio promedio de venta:\n",
            "          Marca  Precio Promedio de Venta  Unidades Vendidas\n",
            "0         Acura              14017.268260               5901\n",
            "1  Aston Martin              54812.000000                 25\n",
            "2          Audi              19915.432782               5869\n",
            "3           BMW              21441.895748              20719\n",
            "4       Bentley              74367.672414                116\n",
            "\n",
            "Caso de negocio:\n",
            "Si una marca tiene alto volumen de ventas pero precios bajos, se recomienda:\n",
            "- Analizar el posicionamiento de mercado y la percepción de marca.\n",
            "- Explorar estrategias de diferenciación para agregar valor.\n",
            " - Por ejemplo: Garantías extendidas, paquetes de servicios adicionales, mejoras en la experiencia del cliente.\n",
            " - Aumentar la percepción de calidad y exclusividad para justificar precios más altos.\n",
            " - Evaluar ajustes en la estrategia de precios o reducir descuentos.\n"
          ]
        }
      ],
      "source": [
        "brand_stats = data.groupby('make').agg(\n",
        "    avg_selling_price=('sellingprice', 'mean'),\n",
        "    sales_volume=('make', 'count')\n",
        ").reset_index()\n",
        "brand_stats.columns = ['Marca', 'Precio Promedio de Venta', 'Unidades Vendidas']\n",
        "print(brand_stats)\n",
        "brand_stats_sorted = brand_stats.sort_values(by='Unidades Vendidas', ascending=False)\n",
        "top_5_brands = brand_stats.head(5)\n",
        "print(\"Top 5 marcas con mayor volumen de ventas y su precio promedio de venta:\")\n",
        "print(top_5_brands)\n",
        "print(\"\\nCaso de negocio:\")\n",
        "print(\"Si una marca tiene alto volumen de ventas pero precios bajos, se recomienda:\")\n",
        "print(\"- Analizar el posicionamiento de mercado y la percepción de marca.\")\n",
        "print(\"- Explorar estrategias de diferenciación para agregar valor.\")\n",
        "print(\" - Por ejemplo: Garantías extendidas, paquetes de servicios adicionales, mejoras en la experiencia del cliente.\")\n",
        "print(\" - Aumentar la percepción de calidad y exclusividad para justificar precios más altos.\")\n",
        "print(\" - Evaluar ajustes en la estrategia de precios o reducir descuentos.\")"
      ]
    },
    {
      "cell_type": "markdown",
      "id": "8d81b4f8-9f67-4212-a90d-c2e3c9b9cbbd",
      "metadata": {
        "id": "8d81b4f8-9f67-4212-a90d-c2e3c9b9cbbd"
      },
      "source": [
        "## 6. Análisis de Rentabilidad por Marca\n",
        "\n",
        "a) Crea una nueva columna `profit` que sea la diferencia entre `mmr` y `sellingprice`.\n",
        "b) Agrupa por `make` y calcula el beneficio promedio para cada marca.\n",
        "\n",
        "c) Caso de negocio: Identifica las 5 marcas con mayor beneficio promedio y explica qué acciones estratégicas implementarías (por ejemplo, renegociar precios o invertir en calidad)."
      ]
    },
    {
      "cell_type": "code",
      "execution_count": 63,
      "id": "d0ed1b10-2a4f-4f41-9d1a-7a117bb8f87d",
      "metadata": {
        "id": "d0ed1b10-2a4f-4f41-9d1a-7a117bb8f87d",
        "outputId": "ceb12310-5aa8-4e30-c4b7-67d01dafcf1e",
        "colab": {
          "base_uri": "https://localhost:8080/"
        }
      },
      "outputs": [
        {
          "output_type": "stream",
          "name": "stdout",
          "text": [
            "           Marca  Precio Promedio de Venta  Unidades Vendidas\n",
            "0          Acura              14017.268260               5901\n",
            "1   Aston Martin              54812.000000                 25\n",
            "2           Audi              19915.432782               5869\n",
            "3            BMW              21441.895748              20719\n",
            "4        Bentley              74367.672414                116\n",
            "..           ...                       ...                ...\n",
            "91        subaru               3710.416667                 60\n",
            "92        suzuki               4810.000000                  5\n",
            "93        toyota               7339.105263                 95\n",
            "94    volkswagen               6145.833333                 24\n",
            "95            vw              13672.916667                 24\n",
            "\n",
            "[96 rows x 3 columns]\n",
            "\n",
            "Interpretación de los resultados:\n",
            "- Si el Precio Promedio de Venta es alto, la marca es percibida como valiosa en el mercado.\n",
            "- Si el Volumen de Ventas es alto, significa que la marca es popular y tiene alta demanda.\n",
            "- Si el Precio Promedio de Venta es bajo pero el Volumen de Ventas es alto, la marca es asequible y tiene buen desempeño en términos de unidades vendidas.\n",
            "- Si el Precio Promedio de Venta es bajo y el Volumen de Ventas también es bajo, la marca podría no ser tan competitiva en el mercado.\n"
          ]
        }
      ],
      "source": [
        "brand_stats = data.groupby('make').agg({\n",
        "    'sellingprice': ['mean', 'count']\n",
        "}).reset_index()\n",
        "brand_stats.columns = ['Marca', 'Precio Promedio de Venta', 'Unidades Vendidas']\n",
        "\n",
        "print(brand_stats)\n",
        "print(\"\\nInterpretación de los resultados:\")\n",
        "print(\"- Si el Precio Promedio de Venta es alto, la marca es percibida como valiosa en el mercado.\")\n",
        "print(\"- Si el Volumen de Ventas es alto, significa que la marca es popular y tiene alta demanda.\")\n",
        "print(\"- Si el Precio Promedio de Venta es bajo pero el Volumen de Ventas es alto, la marca es asequible y tiene buen desempeño en términos de unidades vendidas.\")\n",
        "print(\"- Si el Precio Promedio de Venta es bajo y el Volumen de Ventas también es bajo, la marca podría no ser tan competitiva en el mercado.\")"
      ]
    },
    {
      "cell_type": "markdown",
      "id": "6c2d915d-d08f-4b98-8e25-8ad25a9c817e",
      "metadata": {
        "id": "6c2d915d-d08f-4b98-8e25-8ad25a9c817e"
      },
      "source": [
        "## 7. Análisis Temporal: Ventas del Año 2015\n",
        "\n",
        "a) Filtra el dataset para obtener únicamente las ventas del año 2015 y muestra las primeras 10 filas. Cuantos Vehiculos tiene esta dataset\n",
        "\n",
        "\n",
        "b) Caso de negocio: Si 2015 muestra comportamientos atípicos en comparación con otros años, ¿deberías ajustar la estrategia basándote en tendencias actuales? Explica tu criterio."
      ]
    },
    {
      "cell_type": "code",
      "execution_count": 84,
      "id": "4b5aef0e-42e2-4c10-ae82-7c1f188abdda",
      "metadata": {
        "id": "4b5aef0e-42e2-4c10-ae82-7c1f188abdda",
        "outputId": "6e7a9aac-a240-4b74-f80d-8778043b6cf7",
        "colab": {
          "base_uri": "https://localhost:8080/"
        }
      },
      "outputs": [
        {
          "output_type": "stream",
          "name": "stdout",
          "text": [
            "Primeras 10 filas del dataset de 2015:\n",
            "    year       make    model   trim   body transmission                vin  \\\n",
            "0   2015        Kia  Sorento     LX    SUV    automatic  5xyktca69fg566472   \n",
            "1   2015        Kia  Sorento     LX    SUV    automatic  5xyktca69fg561319   \n",
            "3   2015      Volvo      S60     T5  Sedan    automatic  yv1612tb4f1310987   \n",
            "5   2015     Nissan   Altima  2.5 S  Sedan    automatic  1n4al3ap1fn326013   \n",
            "11  2015        Kia   Optima     LX  Sedan    automatic  5xxgm4a73fg353538   \n",
            "12  2015       Ford   Fusion     SE  Sedan    automatic  3fa6p0hdxfr145753   \n",
            "13  2015        Kia  Sorento     LX    SUV    automatic  5xyktca66fg561407   \n",
            "15  2015     Nissan   Altima  2.5 S  Sedan    automatic  1n4al3ap5fc124223   \n",
            "16  2015    Hyundai   Sonata     SE  Sedan    automatic  5npe24af4fh001562   \n",
            "20  2015  Chevrolet   Impala    LTZ  Sedan    automatic  2g1165s30f9103921   \n",
            "\n",
            "   state  condition  odometer   color interior  \\\n",
            "0     ca        5.0   16639.0   white    black   \n",
            "1     ca        5.0    9393.0   white    beige   \n",
            "3     ca       41.0   14282.0   white    black   \n",
            "5     ca        1.0    5554.0    gray    black   \n",
            "11    ca       48.0    2034.0     red      tan   \n",
            "12    ca        2.0    5559.0   white    beige   \n",
            "13    ca        5.0   14634.0  silver    black   \n",
            "15    ca        2.0   11398.0   black    black   \n",
            "16    ca        NaN    8311.0     red        —   \n",
            "20    ca       19.0   14538.0  silver    black   \n",
            "\n",
            "                                               seller      mmr  sellingprice  \\\n",
            "0                             kia motors america  inc  20500.0       21500.0   \n",
            "1                             kia motors america  inc  20800.0       21500.0   \n",
            "3                             volvo na rep/world omni  27500.0       27750.0   \n",
            "5   enterprise vehicle exchange / tra / rental / t...  15350.0       10900.0   \n",
            "11                                 kia motors finance  15150.0       17700.0   \n",
            "12  enterprise vehicle exchange / tra / rental / t...  15350.0       12000.0   \n",
            "13                            kia motors america  inc  20600.0       21500.0   \n",
            "15  enterprise vehicle exchange / tra / rental / t...  14750.0       14100.0   \n",
            "16                                           avis tra  15200.0        4200.0   \n",
            "20  enterprise vehicle exchange / tra / rental / t...  24300.0        7200.0   \n",
            "\n",
            "                                   saledate  \n",
            "0   Tue Dec 16 2014 12:30:00 GMT-0800 (PST)  \n",
            "1   Tue Dec 16 2014 12:30:00 GMT-0800 (PST)  \n",
            "3   Thu Jan 29 2015 04:30:00 GMT-0800 (PST)  \n",
            "5   Tue Dec 30 2014 12:00:00 GMT-0800 (PST)  \n",
            "11  Tue Dec 16 2014 12:00:00 GMT-0800 (PST)  \n",
            "12  Tue Jan 13 2015 12:00:00 GMT-0800 (PST)  \n",
            "13  Tue Dec 16 2014 12:30:00 GMT-0800 (PST)  \n",
            "15  Tue Dec 23 2014 12:00:00 GMT-0800 (PST)  \n",
            "16  Tue Dec 16 2014 13:00:00 GMT-0800 (PST)  \n",
            "20  Tue Jul 07 2015 09:30:00 GMT-0700 (PDT)  \n",
            "\n",
            "Cantidad total de vehículos vendidos en 2015: 9437\n",
            "no se como hacer el b\n"
          ]
        }
      ],
      "source": [
        "data_2015 = data[data['year'] == 2015]\n",
        "print(\"Primeras 10 filas del dataset de 2015:\")\n",
        "print(data_2015.head(10))  # Aquí también cambié 'data_2015' por 'data_2015.head(10)'\n",
        "total_vehiculos_2015 = len(data_2015)\n",
        "print(f\"\\nCantidad total de vehículos vendidos en 2015: {total_vehiculos_2015}\")\n",
        "print(\"no se como hacer el b\")"
      ]
    },
    {
      "cell_type": "markdown",
      "id": "f68a0e0a-1232-4ac2-8d7e-3a8b6a7e2e6f",
      "metadata": {
        "id": "f68a0e0a-1232-4ac2-8d7e-3a8b6a7e2e6f"
      },
      "source": [
        "## 8. Comparación por Tipo de Carrocería\n",
        "\n",
        "a) Agrupa por la columna `body` y calcula el promedio de `sellingprice` para cada tipo.\n",
        "\n",
        "b) Caso de negocio: Determina qué tipo de carrocería tiene mayor precio promedio y argumenta cómo podrías aprovechar esta información para posicionar una línea premium o ajustar el inventario."
      ]
    },
    {
      "cell_type": "code",
      "execution_count": 91,
      "id": "db985be8-c82d-4240-a2f6-3a9a31d7f1aa",
      "metadata": {
        "id": "db985be8-c82d-4240-a2f6-3a9a31d7f1aa",
        "outputId": "175aaf12-f30c-4314-8d6e-eda2388e3a81",
        "colab": {
          "base_uri": "https://localhost:8080/"
        }
      },
      "outputs": [
        {
          "output_type": "stream",
          "name": "stdout",
          "text": [
            "Index(['year', 'make', 'model', 'trim', 'body', 'transmission', 'vin', 'state',\n",
            "       'condition', 'odometer', 'color', 'interior', 'seller', 'mmr',\n",
            "       'sellingprice', 'saledate'],\n",
            "      dtype='object')\n",
            "body\n",
            "Access Cab            13262.500000\n",
            "Beetle Convertible    18070.192308\n",
            "CTS Coupe             22758.527132\n",
            "CTS Wagon             17811.538462\n",
            "CTS-V Coupe           38425.750000\n",
            "                          ...     \n",
            "transit van           22707.142857\n",
            "tsx sport wagon       18118.750000\n",
            "van                   15009.742105\n",
            "wagon                 10551.605442\n",
            "xtracab                5250.000000\n",
            "Name: sellingprice, Length: 87, dtype: float64\n",
            "El tipo de carrocería con el mayor precio promedio es 'granturismo convertible' con un precio promedio de venta de $79,041.67.\n"
          ]
        }
      ],
      "source": [
        "print(data.columns)\n",
        "precio_promedio_carroceria = data.groupby('body')['sellingprice'].mean()\n",
        "print(precio_promedio_carroceria)\n",
        "tipo_mas_caro = precio_promedio_carroceria.idxmax()\n",
        "precio_mas_alto = precio_promedio_carroceria.max()\n",
        "print(f\"El tipo de carrocería con el mayor precio promedio es '{tipo_mas_caro}' con un precio promedio de venta de ${precio_mas_alto:,.2f}.\")"
      ]
    },
    {
      "cell_type": "markdown",
      "id": "6e4c134a-d5f6-4d3f-b60d-fac69d4a1c31",
      "metadata": {
        "id": "6e4c134a-d5f6-4d3f-b60d-fac69d4a1c31"
      },
      "source": [
        "## 9. Filtros Combinados para un Caso Específico\n",
        "\n",
        "a) **Paso 1:** Agrupa los datos por `state`, `model` y calcula el promedio de `sellingprice` para ver cuál es el precio promedio por combinación.\n",
        "\n",
        "b) **Paso 2:** Utiliza el resultado del agrupamiento para filtrar el dataset original. Por ejemplo, filtra los registros de un estado ('ca') y un modelo ('Sorento') cuyo `sellingprice` supere el precio promedio calculado.\n",
        "\n",
        "c) Caso de negocio: Analiza este segmento y plantea qué acciones implementarías para potenciar las ventas en California, considerando el modelo y el segmento premium."
      ]
    },
    {
      "cell_type": "code",
      "execution_count": 94,
      "id": "0d2c76d5-68bf-42c3-a7cb-4c5a6a1f9d83",
      "metadata": {
        "id": "0d2c76d5-68bf-42c3-a7cb-4c5a6a1f9d83",
        "outputId": "b048ead9-418d-41d4-a07f-d97c8b7eddc5",
        "colab": {
          "base_uri": "https://localhost:8080/"
        }
      },
      "outputs": [
        {
          "output_type": "stream",
          "name": "stdout",
          "text": [
            "state  model   \n",
            "ab     1500        26865.384615\n",
            "       200         15146.153846\n",
            "       3 Series     8433.333333\n",
            "       300         19022.727273\n",
            "       500          8000.000000\n",
            "                       ...     \n",
            "wi     town         7100.000000\n",
            "       windstar      525.000000\n",
            "       wrangler    12500.000000\n",
            "       xB           8200.000000\n",
            "       xD           7550.000000\n",
            "Name: sellingprice, Length: 13575, dtype: float64\n",
            "Precio promedio general en 2015: 12042.37\n",
            "El modelo sorento en ca tiene un precio menor o igual al promedio general del 2015. Evaluar su rentabilidad antes de expandir la oferta.\n",
            "163348\n"
          ]
        }
      ],
      "source": [
        "data['saledate'] = pd.to_datetime(data['saledate'], errors='coerce')\n",
        "precio_promedio_2015 = data[data['saledate'].dt.year == 2015].groupby(['state', 'model'])['sellingprice'].mean()\n",
        "print(precio_promedio_2015)\n",
        "precio_promedio_general_2015 = precio_promedio_2015.mean()\n",
        "print(f\"Precio promedio general en 2015: {precio_promedio_general_2015:.2f}\")\n",
        "estado = 'ca'\n",
        "modelo = 'sorento'\n",
        "data_filtrada = data_2015[(data_2015['state'].str.lower() == estado) & (data_2015['model'].str.lower() == modelo)]\n",
        "precio_modelo_estado = data_filtrada['sellingprice'].mean()\n",
        "if pd.notna(precio_promedio_general_2015) and pd.notna(precio_promedio_general_2015):\n",
        "    if precio_promedio_general_2015 < precio_promedio_2015.mean():\n",
        "        print(f\"El modelo {modelo} en el estado {estado} tiene un precio mayor al promedio del año 2015.\")\n",
        "        print(f\"Se recomienda aumentar el inventario de este modelo en California para aprovechar la mayor demanda.\")\n",
        "    else:\n",
        "        print(f\"El modelo {modelo} en {estado} tiene un precio menor o igual al promedio general del 2015. Evaluar su rentabilidad antes de expandir la oferta.\")\n",
        "print(data['saledate'].isna().sum())\n"
      ]
    },
    {
      "cell_type": "markdown",
      "id": "e6dfbdb1-9d61-4eeb-bfb1-b6c2232a97dd",
      "metadata": {
        "id": "e6dfbdb1-9d61-4eeb-bfb1-b6c2232a97dd"
      },
      "source": [
        "## 10. Ventas Totales por Estado\n",
        "\n",
        "a) Agrupa por `state` y calcula la suma de `sellingprice` para cada estado.\n",
        "\n",
        "b) Caso de negocio: Identifica el estado con mayores ventas totales y discute cómo enfocar campañas de marketing o ampliar la red de distribución en ese estado."
      ]
    },
    {
      "cell_type": "code",
      "execution_count": 97,
      "id": "f04c5e2a-533b-4f3b-b1d9-2c06f8c1382a",
      "metadata": {
        "id": "f04c5e2a-533b-4f3b-b1d9-2c06f8c1382a",
        "outputId": "82849f65-1341-4bb3-b274-401a35db9788",
        "colab": {
          "base_uri": "https://localhost:8080/"
        }
      },
      "outputs": [
        {
          "output_type": "stream",
          "name": "stdout",
          "text": [
            "state\n",
            "3vwd17aj0fm227318        13700.0\n",
            "3vwd17aj2fm258506        13300.0\n",
            "3vwd17aj2fm261566        13400.0\n",
            "3vwd17aj2fm285365        14050.0\n",
            "3vwd17aj3fm259017        14250.0\n",
            "                        ...     \n",
            "tx                   606495361.0\n",
            "ut                    22152489.0\n",
            "va                   103111220.0\n",
            "wa                   103419009.0\n",
            "wi                   137948766.0\n",
            "Name: sellingprice, Length: 64, dtype: float64\n",
            "El estado con el mayor precio total de ventas es fl con un total de 1,151,064,556.00\n"
          ]
        }
      ],
      "source": [
        "precio_total_estado = data.groupby('state')['sellingprice'].sum()\n",
        "print(precio_total_estado)\n",
        "estado_mayor_precio = precio_total_estado.idxmax()\n",
        "precio_maximo_estado = precio_total_estado.max()\n",
        "\n",
        "print(f\"El estado con el mayor precio total de ventas es {estado_mayor_precio} con un total de {precio_maximo_estado:,.2f}\")"
      ]
    },
    {
      "cell_type": "markdown",
      "id": "bafb8ee8-59e9-49ea-a3d3-51660d1cf33d",
      "metadata": {
        "id": "bafb8ee8-59e9-49ea-a3d3-51660d1cf33d"
      },
      "source": [
        "## 11. Rentabilidad por Estado\n",
        "\n",
        "a) Agrupa por `state` y calcula el promedio de eficiencia operativa. Como no contamos con 'Operating Margin', usa como proxy `profit/sellingprice`.\n",
        "\n",
        "b) Caso de negocio: Identifica el estado con mayor eficiencia operativa y sugiere estrategias para replicar ese éxito en otros mercados."
      ]
    },
    {
      "cell_type": "code",
      "execution_count": 102,
      "id": "89e5d45b-cba7-47e3-83a1-50c15299d6a5",
      "metadata": {
        "id": "89e5d45b-cba7-47e3-83a1-50c15299d6a5",
        "outputId": "18b6619d-e71e-4a64-8c8c-c3fc6fda01b8",
        "colab": {
          "base_uri": "https://localhost:8080/"
        }
      },
      "outputs": [
        {
          "output_type": "stream",
          "name": "stdout",
          "text": [
            "state\n",
            "3vwd17aj0fm227318         NaN\n",
            "3vwd17aj2fm258506         NaN\n",
            "3vwd17aj2fm261566         NaN\n",
            "3vwd17aj2fm285365         NaN\n",
            "3vwd17aj3fm259017         NaN\n",
            "                       ...   \n",
            "tx                   0.977011\n",
            "ut                   0.919664\n",
            "va                   0.972402\n",
            "wa                   1.044988\n",
            "wi                   0.957270\n",
            "Name: eficiencia_operativa, Length: 64, dtype: float64\n",
            "El estado con la mayor eficiencia operativa promedio es nm con una rentabilidad de 1.10!\n",
            "\n",
            "Estrategias para replicar el éxito en otros estados:\n",
            "- Analizar los costos operativos en el estado más eficiente e identificar factores clave de éxito.\n",
            "- Mejorar estrategias de fijación de precios con base en la relación precio de venta/MMR.\n",
            "- Evaluar las preferencias del mercado en el estado más eficiente y replicar la oferta en otros estados.\n",
            "- Optimizar la gestión de inventario y reducir costos operativos en estados con menor eficiencia.\n",
            "- Explorar alianzas estratégicas con concesionarios locales para mejorar la distribución y ventas.\n"
          ]
        }
      ],
      "source": [
        "data['saledate'] = pd.to_datetime(data['saledate'], errors='coerce')\n",
        "data['sellingprice'] = pd.to_numeric(data['sellingprice'], errors='coerce')\n",
        "data['mmr'] = pd.to_numeric(data['mmr'], errors='coerce')\n",
        "data['eficiencia_operativa'] = data['sellingprice'] / data['mmr']\n",
        "eficiencia_estado = data.groupby('state')['eficiencia_operativa'].mean()\n",
        "estado_mayor_rentabilidad = eficiencia_estado.idxmax()\n",
        "rentabilidad_maxima = eficiencia_estado.max()\n",
        "print(eficiencia_estado)\n",
        "print(f\"El estado con la mayor eficiencia operativa promedio es {estado_mayor_rentabilidad} con una rentabilidad de {rentabilidad_maxima:.2f}!\")\n",
        "print(\"\\nEstrategias para replicar el éxito en otros estados:\")\n",
        "print(\"- Analizar los costos operativos en el estado más eficiente e identificar factores clave de éxito.\")\n",
        "print(\"- Mejorar estrategias de fijación de precios con base en la relación precio de venta/MMR.\")\n",
        "print(\"- Evaluar las preferencias del mercado en el estado más eficiente y replicar la oferta en otros estados.\")\n",
        "print(\"- Optimizar la gestión de inventario y reducir costos operativos en estados con menor eficiencia.\")\n",
        "print(\"- Explorar alianzas estratégicas con concesionarios locales para mejorar la distribución y ventas.\")\n"
      ]
    },
    {
      "cell_type": "markdown",
      "id": "9770e7da-c5d8-4116-9455-95d55b3a4c86",
      "metadata": {
        "id": "9770e7da-c5d8-4116-9455-95d55b3a4c86"
      },
      "source": [
        "## 12. Análisis por Tipo de Transmisión (en lugar de Sales Method)\n",
        "\n",
        "a) Agrupa el dataset por `transmission` y calcula:\n",
        "   - La suma de `sellingprice` para cada tipo.\n",
        "   - El promedio de `sellingprice` para cada tipo.\n",
        "\n",
        "b) Caso de negocio: ¿Qué tipo de transmisión (automática vs. manual) genera mayores ingresos y qué implicaciones tiene para la estrategia comercial?"
      ]
    },
    {
      "cell_type": "code",
      "execution_count": 104,
      "id": "d7c64fd6-4f97-4d80-9ddf-b3b6123b1262",
      "metadata": {
        "id": "d7c64fd6-4f97-4d80-9ddf-b3b6123b1262",
        "outputId": "44e612ce-bca5-4465-9d44-8a6ed5fb0e41",
        "colab": {
          "base_uri": "https://localhost:8080/"
        }
      },
      "outputs": [
        {
          "output_type": "stream",
          "name": "stdout",
          "text": [
            "El tipo de transmisión con mayores ventas es: automatic, con un total de ventas de $6443933789.00.\n",
            "\n",
            "Estrategia Comercial:\n",
            "1. Potenciar la disponibilidad del tipo de transmisión más vendido en las regiones de mayor demanda.\n",
            "2. Ajustar campañas de marketing para resaltar las ventajas de la transmisión más popular.\n",
            "3. Considerar incentivos o promociones para potenciar la venta de modelos con transmisiones menos populares.\n",
            "4. Asegurar suficiente inventario y opciones para la transmisión más vendida.\n"
          ]
        }
      ],
      "source": [
        "data['sellingprice'] = pd.to_numeric(data['sellingprice'], errors='coerce')\n",
        "transmision_estado = data.groupby('transmission')['sellingprice'].sum()\n",
        "transmision_mayor_ventas = transmision_estado.idxmax()\n",
        "ventas_maximas = transmision_estado.max()\n",
        "print(f\"El tipo de transmisión con mayores ventas es: {transmision_mayor_ventas}, con un total de ventas de ${ventas_maximas:.2f}.\")\n",
        "print(\"\\nEstrategia Comercial:\")\n",
        "print(\"1. Potenciar la disponibilidad del tipo de transmisión más vendido en las regiones de mayor demanda.\")\n",
        "print(\"2. Ajustar campañas de marketing para resaltar las ventajas de la transmisión más popular.\")\n",
        "print(\"3. Considerar incentivos o promociones para potenciar la venta de modelos con transmisiones menos populares.\")\n",
        "print(\"4. Asegurar suficiente inventario y opciones para la transmisión más vendida.\")"
      ]
    },
    {
      "cell_type": "markdown",
      "id": "2c03091a-8e2a-4c6b-a45e-f56b7cfbe8e3",
      "metadata": {
        "id": "2c03091a-8e2a-4c6b-a45e-f56b7cfbe8e3"
      },
      "source": [
        "## 13. Segmentación por Producto Líder\n",
        "\n",
        "a) Identifica el producto (utiliza la columna `model` como proxy) con mayor cantidad de unidades vendidas. Agrupa por `model` y usa el conteo de registros.\n",
        "\n",
        "b) Caso de negocio: Si un producto lidera en ventas, ¿cómo ajustarías el inventario y las promociones para maximizar las ganancias?"
      ]
    },
    {
      "cell_type": "code",
      "execution_count": 110,
      "id": "d7d9e6c6-c0cf-471d-b66f-1a985c95a9a2",
      "metadata": {
        "id": "d7d9e6c6-c0cf-471d-b66f-1a985c95a9a2",
        "outputId": "dde0544e-e2a2-40dc-abe3-01b14475d548",
        "colab": {
          "base_uri": "https://localhost:8080/"
        }
      },
      "outputs": [
        {
          "output_type": "stream",
          "name": "stdout",
          "text": [
            "estrategias:\n",
            "El producto con mayores ventas es: F-150, con un total de ventas de $272,669,759.00.\n",
            "1. Asegurar suficiente inventario del producto líder para evitar quiebres de stock.\n",
            "2. Explorar oportunidades para ofrecer versiones premium o con características adicionales del producto líder.\n",
            "3. Evaluar la demanda y ajustar los precios estratégicamente para maximizar ingresos sin afectar la competitividad.\n",
            "4. Ofrecer promociones cruzadas, combinando el producto líder con otros de menor demanda para aumentar las ventas globales.\n",
            "5. Expandir la distribución del producto a nuevas regiones con alta demanda potencial.\n"
          ]
        }
      ],
      "source": [
        "data['sellingprice'] = pd.to_numeric(data['sellingprice'], errors='coerce')\n",
        "ventas_producto = data.groupby('model')['sellingprice'].sum()\n",
        "producto_mas_vendido = ventas_producto.idxmax()\n",
        "ventas_maximas_producto = ventas_producto.max()\n",
        "print(\"estrategias:\")\n",
        "print(f\"El producto con mayores ventas es: {producto_mas_vendido}, con un total de ventas de ${ventas_maximas_producto:,.2f}.\")\n",
        "print(\"1. Asegurar suficiente inventario del producto líder para evitar quiebres de stock.\")\n",
        "print(\"2. Explorar oportunidades para ofrecer versiones premium o con características adicionales del producto líder.\")\n",
        "print(\"3. Evaluar la demanda y ajustar los precios estratégicamente para maximizar ingresos sin afectar la competitividad.\")\n",
        "print(\"4. Ofrecer promociones cruzadas, combinando el producto líder con otros de menor demanda para aumentar las ventas globales.\")\n",
        "print(\"5. Expandir la distribución del producto a nuevas regiones con alta demanda potencial.\")"
      ]
    },
    {
      "cell_type": "markdown",
      "id": "f324c265-20d1-4fd2-9f76-0ac035965d88",
      "metadata": {
        "id": "f324c265-20d1-4fd2-9f76-0ac035965d88"
      },
      "source": [
        "## 14. Comparación Crítica entre Retailers\n",
        "\n",
        "a) Compara dos retailers usando la columna `seller` en cuanto a volumen de ventas y margen de beneficio (usa `profit` como proxy).\n",
        "\n",
        "b) Caso de negocio: Si un retailer muestra mayores unidades vendidas pero un margen inferior, ¿qué estrategia recomendarías (por ejemplo, optimización de costos, cambio en política de descuentos, etc.)? Justifica tu propuesta.\n",
        "\n",
        "**Paso a paso:**\n",
        "1. Agrupa por `seller` y calcula la suma de `sellingprice` y el promedio de `profit`.\n",
        "2. Ordena los resultados para identificar los líderes en volumen y analiza el margen.\n",
        "3. Propón una estrategia basada en los resultados."
      ]
    },
    {
      "cell_type": "code",
      "execution_count": 138,
      "id": "a4cc0a90-4d9b-4e5d-9093-d8ef0a81f69a",
      "metadata": {
        "id": "a4cc0a90-4d9b-4e5d-9093-d8ef0a81f69a",
        "outputId": "b15a46e1-e8e4-4c07-95e9-e5617957e4ee",
        "colab": {
          "base_uri": "https://localhost:8080/"
        }
      },
      "outputs": [
        {
          "output_type": "stream",
          "name": "stdout",
          "text": [
            "                                  total_sellingprice   avg_profit\n",
            "seller                                                           \n",
            "ford motor credit company llc            340960125.0  -216.393122\n",
            "nissan-infiniti lt                       272104560.0    70.225969\n",
            "the hertz corporation                    250863168.0  -189.344063\n",
            "nissan infiniti lt                       216158321.0   -92.654989\n",
            "avis corporation                         203432330.0    20.590510\n",
            "...                                              ...          ...\n",
            "bell auto sales                                200.0  -250.000000\n",
            "alberta truck & auto liquidators               200.0  -150.000000\n",
            "beaverton honda                                200.0 -1100.000000\n",
            "bcaa/company cars                              200.0  -600.000000\n",
            "kfl llc                                          0.0          NaN\n",
            "\n",
            "[14263 rows x 2 columns]\n",
            "                               total_sellingprice  avg_profit\n",
            "seller                                                       \n",
            "ford motor credit company llc         340960125.0 -216.393122\n",
            "nissan-infiniti lt                    272104560.0   70.225969\n",
            "\n",
            "Estrategias sugeridas:\n",
            "ford motor credit company llc tiene bajo margen de ganancia. Se recomienda optimizar costos, reducir descuentos o mejorar la eficiencia logística\n",
            "nissan infiniti lt tiene un margen saludable. Se recomienda expandirlo\n"
          ]
        }
      ],
      "source": [
        "seller_summary = data.groupby(\"seller\").agg(\n",
        "    total_sellingprice=(\"sellingprice\", \"sum\"),avg_profit=(\"profit\", \"mean\"))\n",
        "seller_summary = seller_summary.sort_values(by=\"total_sellingprice\", ascending=False)\n",
        "print(seller_summary)\n",
        "top_2_sellers = seller_summary.head(2)\n",
        "print(top_2_sellers)\n",
        "print(\"\\nEstrategias sugeridas:\")\n",
        "print(\"ford motor credit company llc tiene bajo margen de ganancia. Se recomienda optimizar costos, reducir descuentos o mejorar la eficiencia logística\")\n",
        "print(\"nissan infiniti lt tiene un margen saludable. Se recomienda expandirlo\")"
      ]
    },
    {
      "cell_type": "markdown",
      "id": "da48e289-6b61-48c8-9b7a-cfc8b52c2f6d",
      "metadata": {
        "id": "da48e289-6b61-48c8-9b7a-cfc8b52c2f6d"
      },
      "source": [
        "## 15. Caso Integrador: Estrategia Comercial Global\n",
        "\n",
        "a) **Paso 1:** Identifica cada criterio basado en los análisis anteriores:\n",
        "   - **Retailer con mayores ventas totales:** Usa la columna `seller` del resumen de retailers.\n",
        "   - **Estado con mayores ventas totales:** Del agrupamiento por `state`.\n",
        "   - **Producto con mayor unidades vendidas:** Usa la columna `model`.\n",
        "   - **Tipo de transmisión con mayores ventas totales:** Agrupa por `transmission`.\n",
        "\n",
        "b) **Paso 2:** Filtra el dataset original usando cada uno de estos criterios, uno a uno, y luego combínalos en un filtro final.\n",
        "\n",
        "c) Con base en el análisis combinado, redacta un breve informe (3-4 líneas) proponiendo una estrategia comercial integral para maximizar la rentabilidad, considerando inversión en canales, promociones específicas y optimización de inventario.\n",
        "\n",
        "d) Caso de negocio: Utiliza la integración de estos criterios para definir en qué segmento enfocar la estrategia global."
      ]
    },
    {
      "cell_type": "code",
      "execution_count": 139,
      "id": "b5a2a7aa-1e4d-45bb-9a9e-0f2a7a44e0d3",
      "metadata": {
        "id": "b5a2a7aa-1e4d-45bb-9a9e-0f2a7a44e0d3",
        "outputId": "5a1ab8d2-f4f9-40e3-eca5-30abe60dd0cf",
        "colab": {
          "base_uri": "https://localhost:8080/"
        }
      },
      "outputs": [
        {
          "output_type": "stream",
          "name": "stdout",
          "text": [
            "Retailer con mayores ventas: ford motor credit company llc con $340960125.00 en ventas totales.\n",
            "Estado con mayores ventas: fl con ventas de $1151064556.00\n",
            "Producto con mayores ventas: 0 con ventas de $272669759.00\n",
            "Tipo de transmisión más vendido: automatic\n",
            "\n",
            "Estrategia Comercial Recomendada:\n",
            "- Se recomienda enfocarse en el retailer con mayores ventas (ford motor credit company llc) para reforzar la relación comercial.\n",
            "- Se observa que el estado con mayor demanda es fl. Invertir en estrategias de promoción dirigidas a esta región.\n",
            "- El producto más vendido es de tipo automatic. Se recomienda priorizar su producción y optimizar el inventario.\n"
          ]
        }
      ],
      "source": [
        "sellers_summary = data.groupby('seller').agg({'sellingprice': 'sum'}).reset_index()\n",
        "state_summary = data.groupby('state').agg({'sellingprice': 'sum'}).reset_index()\n",
        "product_summary = data.groupby('model').agg({'sellingprice': 'sum'}).reset_index()\n",
        "transmission_summary = data.groupby('transmission').agg({'sellingprice': 'sum'}).reset_index()\n",
        "top_seller = sellers_summary.loc[sellers_summary['sellingprice'].idxmax()]\n",
        "top_state = state_summary.loc[state_summary['sellingprice'].idxmax()]\n",
        "top_product = product_summary.loc[product_summary['sellingprice'].idxmax()]\n",
        "top_transmission = data['transmission'].mode()[0]\n",
        "print(f\"Retailer con mayores ventas: {top_seller['seller']} con ${top_seller['sellingprice']:.2f} en ventas totales.\")\n",
        "print(f\"Estado con mayores ventas: {top_state['state']} con ventas de ${top_state['sellingprice']:.2f}\")\n",
        "print(f\"Producto con mayores ventas: {product_summary.iloc[0].name} con ventas de ${product_summary['sellingprice'].max():.2f}\")\n",
        "print(f\"Tipo de transmisión más vendido: {top_transmission}\")\n",
        "filtered_seller = data[data['seller'] == top_seller['seller']]\n",
        "filtered_state = data[data['state'] == top_state['state']]\n",
        "filtered_product = data[data['transmission'] == top_transmission]\n",
        "print(\"\\nEstrategia Comercial Recomendada:\")\n",
        "print(f\"- Se recomienda enfocarse en el retailer con mayores ventas ({top_seller['seller']}) para reforzar la relación comercial.\")\n",
        "print(f\"- Se observa que el estado con mayor demanda es {top_state['state']}. Invertir en estrategias de promoción dirigidas a esta región.\")\n",
        "print(f\"- El producto más vendido es de tipo {top_transmission}. Se recomienda priorizar su producción y optimizar el inventario.\")"
      ]
    }
  ],
  "metadata": {
    "kernelspec": {
      "display_name": "Python 3",
      "language": "python",
      "name": "python3"
    },
    "language_info": {
      "name": "python",
      "version": "3.x"
    },
    "colab": {
      "provenance": []
    }
  },
  "nbformat": 4,
  "nbformat_minor": 5
}